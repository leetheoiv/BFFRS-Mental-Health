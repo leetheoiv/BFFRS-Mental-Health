{
  "nbformat": 4,
  "nbformat_minor": 0,
  "metadata": {
    "colab": {
      "provenance": []
    },
    "kernelspec": {
      "name": "python3",
      "display_name": "Python 3"
    },
    "language_info": {
      "name": "python"
    }
  },
  "cells": [
    {
      "cell_type": "markdown",
      "source": [
        "# **Sexual and Gender Minority**"
      ],
      "metadata": {
        "id": "qf02szZd73Zf"
      }
    },
    {
      "cell_type": "code",
      "execution_count": null,
      "metadata": {
        "id": "S6RKygCqsTTx"
      },
      "outputs": [],
      "source": [
        "import numpy as np\n",
        "import matplotlib.pyplot as plt\n",
        "import pandas as pd\n",
        "import regex as re\n",
        "import seaborn as sns\n",
        "pd.set_option('display.max_rows', 200)\n",
        "pd.set_option('display.max_columns', 200)"
      ]
    },
    {
      "cell_type": "code",
      "source": [],
      "metadata": {
        "id": "nr9wReybKLtk"
      },
      "execution_count": null,
      "outputs": []
    },
    {
      "cell_type": "markdown",
      "source": [
        "## **About the Data**"
      ],
      "metadata": {
        "id": "cpvW46K_8HXW"
      }
    },
    {
      "cell_type": "markdown",
      "source": [
        "The data used in this project was downloaded from Kaggle.com and was collected by the CDC. The Behavioral Risk Factor Surveillance System (BRFSS) is a national survey used to assess the health of U.S Residents of each state. The survey is done via telephone. The data used in this project comes from their 2015 data."
      ],
      "metadata": {
        "id": "H50k4WY8_q3G"
      }
    },
    {
      "cell_type": "markdown",
      "source": [
        "# **Data Analysis Questions**"
      ],
      "metadata": {
        "id": "zlzaDiwUC7P0"
      }
    },
    {
      "cell_type": "markdown",
      "source": [
        "**Q1**:\n",
        "Is there an association between being queer identifying individuals and being diagnosed with depression or anxiety by a provider?"
      ],
      "metadata": {
        "id": "cYhd_y-PDEI8"
      }
    },
    {
      "cell_type": "markdown",
      "source": [
        "**Q2**: Do Bisexual indivdiuals have poorer mental health compared to their gay counterparts?"
      ],
      "metadata": {
        "id": "2MPyews3sQXR"
      }
    },
    {
      "cell_type": "markdown",
      "source": [
        "**Q3**:\n",
        "Is there an association between being non-cis, the state, and  being diagnosed with depression or anxiety by a provider?"
      ],
      "metadata": {
        "id": "9EwDSNRMDi8d"
      }
    },
    {
      "cell_type": "markdown",
      "source": [
        "## **Overall Findings:**"
      ],
      "metadata": {
        "id": "XhpgB8KX_tiL"
      }
    },
    {
      "cell_type": "markdown",
      "source": [
        "\n",
        "- Bisexual People, bisexual women,specifically report a higher rate of days their mental health isn't good compared to gay people.\n",
        "- People that that reported their sexuality to be other have a higher rate of depressive/anxious symptoms compared to other groups\n",
        "- Non-binary people are more likely to experience more depressive/anxious symptoms compared to other gender minorities. Especially, in states like Georiga, North Dakota, and West Virgina"
      ],
      "metadata": {
        "id": "nkF1ZI8z_mLG"
      }
    },
    {
      "cell_type": "markdown",
      "source": [
        "# **Load Data**"
      ],
      "metadata": {
        "id": "6m6L1amLs8TC"
      }
    },
    {
      "cell_type": "markdown",
      "source": [
        "**Variable Information:**\n",
        "\n",
        "- EDUCA: What is the highest grade or year of school you completed?\n",
        "- SXORIENT: What is your sexual orientation?\n",
        "- TRNSGNDR: Are you Transgender?\n",
        "- GENHLTH: Would you say that in general your health is\n",
        "- MENTHLTH: Now thinking about your mental health, which includes stress, depression, and problems with emotions, for how many days during the past 30 days was your mental health not good?\n",
        "- ADDEPEV2: (Ever told) you that you have a depressive disorder, including depression, major depression, dysthymia, or minor\n",
        "depression?\n",
        "- ADPLEASR: Over the last 2 weeks, how many days have you had little interest or pleasure in doing things?\n",
        "- ADDOWN: Over the last 2 weeks, how many days have you felt down, depressed or hopeless?\n",
        "- ADSLEEP: Over the last 2 weeks, how many days have you had trouble falling asleep or staying asleep or sleeping too much?\n",
        "- ADENERGY: Over the last 2 weeks, how many days have you felt tired or had little energy?\n",
        "- ADEAT1: Over the last 2 weeks, how many days have you had a poor appetite or eaten too much?\n",
        "- ADFAIL: Over the last 2 weeks, how many days have you felt bad about yourself or that you were a failure or had let yourself or your family down?\n",
        "- ADTHINK: Over the last 2 weeks, how many days have you had trouble concentrating on things, such as reading the newspaper or watching the TV?\n",
        "- ADMOVE: Over the last 2 weeks, how many days have you moved or spoken so slowly that other people could have noticed? Or the opposite – being so fidgety or restless that you were moving around a lot more than usual?\n",
        "- MISTMNT: Are you now taking medicine or receiving treatment from a doctor or other health professional for any type of mental health condition or emotional problem?\n",
        "- ADANXEV:  Has a doctor or other healthcare provider EVER told you that you had an anxiety disorder (including acute stress disorder, anxiety, generalized anxiety disorder, obsessive-compulsive disorder, panic disorder, phobia, posttraumatic stress disorder, or social anxiety disorder)?\n",
        "\n"
      ],
      "metadata": {
        "id": "DmCmQUB7c9sf"
      }
    },
    {
      "cell_type": "code",
      "execution_count": null,
      "metadata": {
        "id": "VHKrRXmp9BY8"
      },
      "outputs": [],
      "source": [
        "cols = ['_STATE','SEX','MARITAL','EDUCA','SXORIENT','TRNSGNDR','GENHLTH','PHYSHLTH','MENTHLTH','POORHLTH','ADDEPEV2','DIABETE3','PREDIAB1','VETERAN3',\n",
        "        'AVEDRNK2','DRNK3GE5','MAXDRNKS','ADPLEASR','ADDOWN','ADSLEEP','ADENERGY','ADEAT1','ADFAIL','ADTHINK','ADMOVE','MISTMNT','ADANXEV',\n",
        "        'INCOME2','CVDCRHD4','CHCSCNCR','CHCOCNCR','HLTHPLN1','MEDCOST','BPMEDS','CVDINFR4','CHILDREN','INTERNET','EMPLOY1','EXERANY2']"
      ]
    },
    {
      "cell_type": "code",
      "source": [
        "df = pd.read_csv('/content/drive/MyDrive/Colab Notebooks/Data Science/Projects/BFFRS/2015.csv',usecols=cols)\n"
      ],
      "metadata": {
        "id": "y7ohmOEKs6oT"
      },
      "execution_count": null,
      "outputs": []
    },
    {
      "cell_type": "code",
      "source": [
        "df.info()"
      ],
      "metadata": {
        "id": "RqxIWwoWxNXE",
        "colab": {
          "base_uri": "https://localhost:8080/"
        },
        "outputId": "6bf9095e-02c2-42bf-a3e0-9677d34bc23c"
      },
      "execution_count": null,
      "outputs": [
        {
          "output_type": "stream",
          "name": "stdout",
          "text": [
            "<class 'pandas.core.frame.DataFrame'>\n",
            "RangeIndex: 441456 entries, 0 to 441455\n",
            "Data columns (total 39 columns):\n",
            " #   Column    Non-Null Count   Dtype  \n",
            "---  ------    --------------   -----  \n",
            " 0   _STATE    441456 non-null  float64\n",
            " 1   GENHLTH   441454 non-null  float64\n",
            " 2   PHYSHLTH  441455 non-null  float64\n",
            " 3   MENTHLTH  441456 non-null  float64\n",
            " 4   POORHLTH  226964 non-null  float64\n",
            " 5   HLTHPLN1  441456 non-null  float64\n",
            " 6   MEDCOST   441455 non-null  float64\n",
            " 7   BPMEDS    178188 non-null  float64\n",
            " 8   CVDINFR4  441456 non-null  float64\n",
            " 9   CVDCRHD4  441455 non-null  float64\n",
            " 10  CHCSCNCR  441455 non-null  float64\n",
            " 11  CHCOCNCR  441456 non-null  float64\n",
            " 12  ADDEPEV2  441456 non-null  float64\n",
            " 13  DIABETE3  441449 non-null  float64\n",
            " 14  SEX       441456 non-null  float64\n",
            " 15  MARITAL   441456 non-null  float64\n",
            " 16  EDUCA     441456 non-null  float64\n",
            " 17  VETERAN3  441450 non-null  float64\n",
            " 18  EMPLOY1   441456 non-null  float64\n",
            " 19  CHILDREN  441451 non-null  float64\n",
            " 20  INCOME2   438155 non-null  float64\n",
            " 21  INTERNET  437146 non-null  float64\n",
            " 22  AVEDRNK2  210838 non-null  float64\n",
            " 23  DRNK3GE5  210420 non-null  float64\n",
            " 24  MAXDRNKS  210017 non-null  float64\n",
            " 25  EXERANY2  406012 non-null  float64\n",
            " 26  PREDIAB1  82760 non-null   float64\n",
            " 27  SXORIENT  166997 non-null  float64\n",
            " 28  TRNSGNDR  166907 non-null  float64\n",
            " 29  ADPLEASR  20445 non-null   float64\n",
            " 30  ADDOWN    20429 non-null   float64\n",
            " 31  ADSLEEP   20419 non-null   float64\n",
            " 32  ADENERGY  20413 non-null   float64\n",
            " 33  ADEAT1    20402 non-null   float64\n",
            " 34  ADFAIL    20395 non-null   float64\n",
            " 35  ADTHINK   20381 non-null   float64\n",
            " 36  ADMOVE    20365 non-null   float64\n",
            " 37  MISTMNT   20350 non-null   float64\n",
            " 38  ADANXEV   20342 non-null   float64\n",
            "dtypes: float64(39)\n",
            "memory usage: 131.4 MB\n"
          ]
        }
      ]
    },
    {
      "cell_type": "code",
      "source": [
        "df.head()"
      ],
      "metadata": {
        "colab": {
          "base_uri": "https://localhost:8080/",
          "height": 270
        },
        "id": "jAALbtjo0vOy",
        "outputId": "fa95793d-8d2c-4e98-9dd8-908c93ac1fa5"
      },
      "execution_count": null,
      "outputs": [
        {
          "output_type": "execute_result",
          "data": {
            "text/plain": [
              "   _STATE  GENHLTH  PHYSHLTH  MENTHLTH  POORHLTH  HLTHPLN1  MEDCOST  BPMEDS  \\\n",
              "0     1.0      5.0      15.0      18.0      10.0       1.0      2.0     1.0   \n",
              "1     1.0      3.0      88.0      88.0       NaN       2.0      1.0     NaN   \n",
              "2     1.0      4.0      15.0      88.0      88.0       1.0      2.0     NaN   \n",
              "3     1.0      5.0      30.0      30.0      30.0       1.0      1.0     1.0   \n",
              "4     1.0      5.0      20.0      88.0      30.0       1.0      2.0     NaN   \n",
              "\n",
              "   CVDINFR4  CVDCRHD4  CHCSCNCR  CHCOCNCR  ADDEPEV2  DIABETE3  SEX  MARITAL  \\\n",
              "0       2.0       2.0       2.0       2.0       1.0       3.0  2.0      1.0   \n",
              "1       2.0       2.0       2.0       2.0       2.0       3.0  2.0      2.0   \n",
              "2       7.0       2.0       2.0       1.0       2.0       3.0  2.0      2.0   \n",
              "3       2.0       2.0       2.0       1.0       1.0       3.0  2.0      1.0   \n",
              "4       2.0       2.0       2.0       2.0       2.0       3.0  2.0      1.0   \n",
              "\n",
              "   EDUCA  VETERAN3  EMPLOY1  CHILDREN  INCOME2  INTERNET  AVEDRNK2  DRNK3GE5  \\\n",
              "0    4.0       2.0      8.0      88.0      3.0       2.0       NaN       NaN   \n",
              "1    6.0       2.0      3.0      88.0      1.0       1.0       NaN       NaN   \n",
              "2    4.0       2.0      7.0      88.0     99.0       2.0       NaN       NaN   \n",
              "3    4.0       2.0      8.0       1.0      8.0       2.0       NaN       NaN   \n",
              "4    5.0       2.0      8.0      88.0     77.0       1.0       NaN       NaN   \n",
              "\n",
              "   MAXDRNKS  EXERANY2  PREDIAB1  SXORIENT  TRNSGNDR  ADPLEASR  ADDOWN  \\\n",
              "0       NaN       2.0       3.0       NaN       NaN       NaN     NaN   \n",
              "1       NaN       1.0       3.0       NaN       NaN       NaN     NaN   \n",
              "2       NaN       NaN       3.0       NaN       NaN       NaN     NaN   \n",
              "3       NaN       2.0       3.0       NaN       NaN       NaN     NaN   \n",
              "4       NaN       2.0       3.0       NaN       NaN       NaN     NaN   \n",
              "\n",
              "   ADSLEEP  ADENERGY  ADEAT1  ADFAIL  ADTHINK  ADMOVE  MISTMNT  ADANXEV  \n",
              "0      NaN       NaN     NaN     NaN      NaN     NaN      NaN      NaN  \n",
              "1      NaN       NaN     NaN     NaN      NaN     NaN      NaN      NaN  \n",
              "2      NaN       NaN     NaN     NaN      NaN     NaN      NaN      NaN  \n",
              "3      NaN       NaN     NaN     NaN      NaN     NaN      NaN      NaN  \n",
              "4      NaN       NaN     NaN     NaN      NaN     NaN      NaN      NaN  "
            ],
            "text/html": [
              "\n",
              "  <div id=\"df-3474b849-f0c3-4cf4-af01-46cedb19060a\">\n",
              "    <div class=\"colab-df-container\">\n",
              "      <div>\n",
              "<style scoped>\n",
              "    .dataframe tbody tr th:only-of-type {\n",
              "        vertical-align: middle;\n",
              "    }\n",
              "\n",
              "    .dataframe tbody tr th {\n",
              "        vertical-align: top;\n",
              "    }\n",
              "\n",
              "    .dataframe thead th {\n",
              "        text-align: right;\n",
              "    }\n",
              "</style>\n",
              "<table border=\"1\" class=\"dataframe\">\n",
              "  <thead>\n",
              "    <tr style=\"text-align: right;\">\n",
              "      <th></th>\n",
              "      <th>_STATE</th>\n",
              "      <th>GENHLTH</th>\n",
              "      <th>PHYSHLTH</th>\n",
              "      <th>MENTHLTH</th>\n",
              "      <th>POORHLTH</th>\n",
              "      <th>HLTHPLN1</th>\n",
              "      <th>MEDCOST</th>\n",
              "      <th>BPMEDS</th>\n",
              "      <th>CVDINFR4</th>\n",
              "      <th>CVDCRHD4</th>\n",
              "      <th>CHCSCNCR</th>\n",
              "      <th>CHCOCNCR</th>\n",
              "      <th>ADDEPEV2</th>\n",
              "      <th>DIABETE3</th>\n",
              "      <th>SEX</th>\n",
              "      <th>MARITAL</th>\n",
              "      <th>EDUCA</th>\n",
              "      <th>VETERAN3</th>\n",
              "      <th>EMPLOY1</th>\n",
              "      <th>CHILDREN</th>\n",
              "      <th>INCOME2</th>\n",
              "      <th>INTERNET</th>\n",
              "      <th>AVEDRNK2</th>\n",
              "      <th>DRNK3GE5</th>\n",
              "      <th>MAXDRNKS</th>\n",
              "      <th>EXERANY2</th>\n",
              "      <th>PREDIAB1</th>\n",
              "      <th>SXORIENT</th>\n",
              "      <th>TRNSGNDR</th>\n",
              "      <th>ADPLEASR</th>\n",
              "      <th>ADDOWN</th>\n",
              "      <th>ADSLEEP</th>\n",
              "      <th>ADENERGY</th>\n",
              "      <th>ADEAT1</th>\n",
              "      <th>ADFAIL</th>\n",
              "      <th>ADTHINK</th>\n",
              "      <th>ADMOVE</th>\n",
              "      <th>MISTMNT</th>\n",
              "      <th>ADANXEV</th>\n",
              "    </tr>\n",
              "  </thead>\n",
              "  <tbody>\n",
              "    <tr>\n",
              "      <th>0</th>\n",
              "      <td>1.0</td>\n",
              "      <td>5.0</td>\n",
              "      <td>15.0</td>\n",
              "      <td>18.0</td>\n",
              "      <td>10.0</td>\n",
              "      <td>1.0</td>\n",
              "      <td>2.0</td>\n",
              "      <td>1.0</td>\n",
              "      <td>2.0</td>\n",
              "      <td>2.0</td>\n",
              "      <td>2.0</td>\n",
              "      <td>2.0</td>\n",
              "      <td>1.0</td>\n",
              "      <td>3.0</td>\n",
              "      <td>2.0</td>\n",
              "      <td>1.0</td>\n",
              "      <td>4.0</td>\n",
              "      <td>2.0</td>\n",
              "      <td>8.0</td>\n",
              "      <td>88.0</td>\n",
              "      <td>3.0</td>\n",
              "      <td>2.0</td>\n",
              "      <td>NaN</td>\n",
              "      <td>NaN</td>\n",
              "      <td>NaN</td>\n",
              "      <td>2.0</td>\n",
              "      <td>3.0</td>\n",
              "      <td>NaN</td>\n",
              "      <td>NaN</td>\n",
              "      <td>NaN</td>\n",
              "      <td>NaN</td>\n",
              "      <td>NaN</td>\n",
              "      <td>NaN</td>\n",
              "      <td>NaN</td>\n",
              "      <td>NaN</td>\n",
              "      <td>NaN</td>\n",
              "      <td>NaN</td>\n",
              "      <td>NaN</td>\n",
              "      <td>NaN</td>\n",
              "    </tr>\n",
              "    <tr>\n",
              "      <th>1</th>\n",
              "      <td>1.0</td>\n",
              "      <td>3.0</td>\n",
              "      <td>88.0</td>\n",
              "      <td>88.0</td>\n",
              "      <td>NaN</td>\n",
              "      <td>2.0</td>\n",
              "      <td>1.0</td>\n",
              "      <td>NaN</td>\n",
              "      <td>2.0</td>\n",
              "      <td>2.0</td>\n",
              "      <td>2.0</td>\n",
              "      <td>2.0</td>\n",
              "      <td>2.0</td>\n",
              "      <td>3.0</td>\n",
              "      <td>2.0</td>\n",
              "      <td>2.0</td>\n",
              "      <td>6.0</td>\n",
              "      <td>2.0</td>\n",
              "      <td>3.0</td>\n",
              "      <td>88.0</td>\n",
              "      <td>1.0</td>\n",
              "      <td>1.0</td>\n",
              "      <td>NaN</td>\n",
              "      <td>NaN</td>\n",
              "      <td>NaN</td>\n",
              "      <td>1.0</td>\n",
              "      <td>3.0</td>\n",
              "      <td>NaN</td>\n",
              "      <td>NaN</td>\n",
              "      <td>NaN</td>\n",
              "      <td>NaN</td>\n",
              "      <td>NaN</td>\n",
              "      <td>NaN</td>\n",
              "      <td>NaN</td>\n",
              "      <td>NaN</td>\n",
              "      <td>NaN</td>\n",
              "      <td>NaN</td>\n",
              "      <td>NaN</td>\n",
              "      <td>NaN</td>\n",
              "    </tr>\n",
              "    <tr>\n",
              "      <th>2</th>\n",
              "      <td>1.0</td>\n",
              "      <td>4.0</td>\n",
              "      <td>15.0</td>\n",
              "      <td>88.0</td>\n",
              "      <td>88.0</td>\n",
              "      <td>1.0</td>\n",
              "      <td>2.0</td>\n",
              "      <td>NaN</td>\n",
              "      <td>7.0</td>\n",
              "      <td>2.0</td>\n",
              "      <td>2.0</td>\n",
              "      <td>1.0</td>\n",
              "      <td>2.0</td>\n",
              "      <td>3.0</td>\n",
              "      <td>2.0</td>\n",
              "      <td>2.0</td>\n",
              "      <td>4.0</td>\n",
              "      <td>2.0</td>\n",
              "      <td>7.0</td>\n",
              "      <td>88.0</td>\n",
              "      <td>99.0</td>\n",
              "      <td>2.0</td>\n",
              "      <td>NaN</td>\n",
              "      <td>NaN</td>\n",
              "      <td>NaN</td>\n",
              "      <td>NaN</td>\n",
              "      <td>3.0</td>\n",
              "      <td>NaN</td>\n",
              "      <td>NaN</td>\n",
              "      <td>NaN</td>\n",
              "      <td>NaN</td>\n",
              "      <td>NaN</td>\n",
              "      <td>NaN</td>\n",
              "      <td>NaN</td>\n",
              "      <td>NaN</td>\n",
              "      <td>NaN</td>\n",
              "      <td>NaN</td>\n",
              "      <td>NaN</td>\n",
              "      <td>NaN</td>\n",
              "    </tr>\n",
              "    <tr>\n",
              "      <th>3</th>\n",
              "      <td>1.0</td>\n",
              "      <td>5.0</td>\n",
              "      <td>30.0</td>\n",
              "      <td>30.0</td>\n",
              "      <td>30.0</td>\n",
              "      <td>1.0</td>\n",
              "      <td>1.0</td>\n",
              "      <td>1.0</td>\n",
              "      <td>2.0</td>\n",
              "      <td>2.0</td>\n",
              "      <td>2.0</td>\n",
              "      <td>1.0</td>\n",
              "      <td>1.0</td>\n",
              "      <td>3.0</td>\n",
              "      <td>2.0</td>\n",
              "      <td>1.0</td>\n",
              "      <td>4.0</td>\n",
              "      <td>2.0</td>\n",
              "      <td>8.0</td>\n",
              "      <td>1.0</td>\n",
              "      <td>8.0</td>\n",
              "      <td>2.0</td>\n",
              "      <td>NaN</td>\n",
              "      <td>NaN</td>\n",
              "      <td>NaN</td>\n",
              "      <td>2.0</td>\n",
              "      <td>3.0</td>\n",
              "      <td>NaN</td>\n",
              "      <td>NaN</td>\n",
              "      <td>NaN</td>\n",
              "      <td>NaN</td>\n",
              "      <td>NaN</td>\n",
              "      <td>NaN</td>\n",
              "      <td>NaN</td>\n",
              "      <td>NaN</td>\n",
              "      <td>NaN</td>\n",
              "      <td>NaN</td>\n",
              "      <td>NaN</td>\n",
              "      <td>NaN</td>\n",
              "    </tr>\n",
              "    <tr>\n",
              "      <th>4</th>\n",
              "      <td>1.0</td>\n",
              "      <td>5.0</td>\n",
              "      <td>20.0</td>\n",
              "      <td>88.0</td>\n",
              "      <td>30.0</td>\n",
              "      <td>1.0</td>\n",
              "      <td>2.0</td>\n",
              "      <td>NaN</td>\n",
              "      <td>2.0</td>\n",
              "      <td>2.0</td>\n",
              "      <td>2.0</td>\n",
              "      <td>2.0</td>\n",
              "      <td>2.0</td>\n",
              "      <td>3.0</td>\n",
              "      <td>2.0</td>\n",
              "      <td>1.0</td>\n",
              "      <td>5.0</td>\n",
              "      <td>2.0</td>\n",
              "      <td>8.0</td>\n",
              "      <td>88.0</td>\n",
              "      <td>77.0</td>\n",
              "      <td>1.0</td>\n",
              "      <td>NaN</td>\n",
              "      <td>NaN</td>\n",
              "      <td>NaN</td>\n",
              "      <td>2.0</td>\n",
              "      <td>3.0</td>\n",
              "      <td>NaN</td>\n",
              "      <td>NaN</td>\n",
              "      <td>NaN</td>\n",
              "      <td>NaN</td>\n",
              "      <td>NaN</td>\n",
              "      <td>NaN</td>\n",
              "      <td>NaN</td>\n",
              "      <td>NaN</td>\n",
              "      <td>NaN</td>\n",
              "      <td>NaN</td>\n",
              "      <td>NaN</td>\n",
              "      <td>NaN</td>\n",
              "    </tr>\n",
              "  </tbody>\n",
              "</table>\n",
              "</div>\n",
              "      <button class=\"colab-df-convert\" onclick=\"convertToInteractive('df-3474b849-f0c3-4cf4-af01-46cedb19060a')\"\n",
              "              title=\"Convert this dataframe to an interactive table.\"\n",
              "              style=\"display:none;\">\n",
              "        \n",
              "  <svg xmlns=\"http://www.w3.org/2000/svg\" height=\"24px\"viewBox=\"0 0 24 24\"\n",
              "       width=\"24px\">\n",
              "    <path d=\"M0 0h24v24H0V0z\" fill=\"none\"/>\n",
              "    <path d=\"M18.56 5.44l.94 2.06.94-2.06 2.06-.94-2.06-.94-.94-2.06-.94 2.06-2.06.94zm-11 1L8.5 8.5l.94-2.06 2.06-.94-2.06-.94L8.5 2.5l-.94 2.06-2.06.94zm10 10l.94 2.06.94-2.06 2.06-.94-2.06-.94-.94-2.06-.94 2.06-2.06.94z\"/><path d=\"M17.41 7.96l-1.37-1.37c-.4-.4-.92-.59-1.43-.59-.52 0-1.04.2-1.43.59L10.3 9.45l-7.72 7.72c-.78.78-.78 2.05 0 2.83L4 21.41c.39.39.9.59 1.41.59.51 0 1.02-.2 1.41-.59l7.78-7.78 2.81-2.81c.8-.78.8-2.07 0-2.86zM5.41 20L4 18.59l7.72-7.72 1.47 1.35L5.41 20z\"/>\n",
              "  </svg>\n",
              "      </button>\n",
              "      \n",
              "  <style>\n",
              "    .colab-df-container {\n",
              "      display:flex;\n",
              "      flex-wrap:wrap;\n",
              "      gap: 12px;\n",
              "    }\n",
              "\n",
              "    .colab-df-convert {\n",
              "      background-color: #E8F0FE;\n",
              "      border: none;\n",
              "      border-radius: 50%;\n",
              "      cursor: pointer;\n",
              "      display: none;\n",
              "      fill: #1967D2;\n",
              "      height: 32px;\n",
              "      padding: 0 0 0 0;\n",
              "      width: 32px;\n",
              "    }\n",
              "\n",
              "    .colab-df-convert:hover {\n",
              "      background-color: #E2EBFA;\n",
              "      box-shadow: 0px 1px 2px rgba(60, 64, 67, 0.3), 0px 1px 3px 1px rgba(60, 64, 67, 0.15);\n",
              "      fill: #174EA6;\n",
              "    }\n",
              "\n",
              "    [theme=dark] .colab-df-convert {\n",
              "      background-color: #3B4455;\n",
              "      fill: #D2E3FC;\n",
              "    }\n",
              "\n",
              "    [theme=dark] .colab-df-convert:hover {\n",
              "      background-color: #434B5C;\n",
              "      box-shadow: 0px 1px 3px 1px rgba(0, 0, 0, 0.15);\n",
              "      filter: drop-shadow(0px 1px 2px rgba(0, 0, 0, 0.3));\n",
              "      fill: #FFFFFF;\n",
              "    }\n",
              "  </style>\n",
              "\n",
              "      <script>\n",
              "        const buttonEl =\n",
              "          document.querySelector('#df-3474b849-f0c3-4cf4-af01-46cedb19060a button.colab-df-convert');\n",
              "        buttonEl.style.display =\n",
              "          google.colab.kernel.accessAllowed ? 'block' : 'none';\n",
              "\n",
              "        async function convertToInteractive(key) {\n",
              "          const element = document.querySelector('#df-3474b849-f0c3-4cf4-af01-46cedb19060a');\n",
              "          const dataTable =\n",
              "            await google.colab.kernel.invokeFunction('convertToInteractive',\n",
              "                                                     [key], {});\n",
              "          if (!dataTable) return;\n",
              "\n",
              "          const docLinkHtml = 'Like what you see? Visit the ' +\n",
              "            '<a target=\"_blank\" href=https://colab.research.google.com/notebooks/data_table.ipynb>data table notebook</a>'\n",
              "            + ' to learn more about interactive tables.';\n",
              "          element.innerHTML = '';\n",
              "          dataTable['output_type'] = 'display_data';\n",
              "          await google.colab.output.renderOutput(dataTable, element);\n",
              "          const docLink = document.createElement('div');\n",
              "          docLink.innerHTML = docLinkHtml;\n",
              "          element.appendChild(docLink);\n",
              "        }\n",
              "      </script>\n",
              "    </div>\n",
              "  </div>\n",
              "  "
            ]
          },
          "metadata": {},
          "execution_count": 5
        }
      ]
    },
    {
      "cell_type": "markdown",
      "source": [
        "# **Data Cleaning**"
      ],
      "metadata": {
        "id": "DpvsqYbTx34c"
      }
    },
    {
      "cell_type": "markdown",
      "source": [
        "**Unique Values**"
      ],
      "metadata": {
        "id": "JmZFVcBgJ601"
      }
    },
    {
      "cell_type": "code",
      "source": [
        "for col in df.columns:\n",
        "  print('--------------------------------------------')\n",
        "  unique_vals = df[col].unique()\n",
        "  print(f'{col}:')\n",
        "  print(f'{unique_vals}')\n",
        "  print(f'Total Values: {len(unique_vals)}')"
      ],
      "metadata": {
        "colab": {
          "base_uri": "https://localhost:8080/"
        },
        "id": "2ixcTOd_KAYm",
        "outputId": "382b3552-85c2-4677-c11d-3b656919f827"
      },
      "execution_count": null,
      "outputs": [
        {
          "output_type": "stream",
          "name": "stdout",
          "text": [
            "--------------------------------------------\n",
            "_STATE:\n",
            "[ 1.  2.  4.  5.  6.  8.  9. 10. 11. 12. 13. 15. 16. 17. 18. 19. 20. 21.\n",
            " 22. 23. 24. 25. 26. 27. 28. 29. 30. 31. 32. 33. 34. 35. 36. 37. 38. 39.\n",
            " 40. 41. 42. 44. 45. 46. 47. 48. 49. 50. 51. 53. 54. 55. 56. 66. 72.]\n",
            "Total Values: 53\n",
            "--------------------------------------------\n",
            "GENHLTH:\n",
            "[ 5.  3.  4.  2.  1.  7.  9. nan]\n",
            "Total Values: 8\n",
            "--------------------------------------------\n",
            "PHYSHLTH:\n",
            "[15. 88. 30. 20.  8. 77.  2. 14.  5. 99.  6. 28.  1.  7. 10.  3. 17.  4.\n",
            " 19. 21. 25. 12. 27. 22. 29. 24.  9. 16. 13. 18. 23. 11. 26. nan]\n",
            "Total Values: 34\n",
            "--------------------------------------------\n",
            "MENTHLTH:\n",
            "[18. 88. 30.  3. 99.  2.  5. 15. 77. 10.  1.  6.  7. 20. 25. 29.  4.  8.\n",
            " 21. 14. 26.  9. 16. 28. 11. 17. 12. 23. 24. 13. 27. 22. 19.]\n",
            "Total Values: 33\n",
            "--------------------------------------------\n",
            "POORHLTH:\n",
            "[10. nan 88. 30.  8. 77.  2. 14.  5. 15. 99.  7. 12. 25.  1.  3. 20.  4.\n",
            " 17. 26.  9. 29.  6. 28. 21. 16. 23. 27. 11. 24. 13. 18. 22. 19.]\n",
            "Total Values: 34\n",
            "--------------------------------------------\n",
            "HLTHPLN1:\n",
            "[1. 2. 7. 9.]\n",
            "Total Values: 4\n",
            "--------------------------------------------\n",
            "MEDCOST:\n",
            "[ 2.  1.  7.  9. nan]\n",
            "Total Values: 5\n",
            "--------------------------------------------\n",
            "BPMEDS:\n",
            "[ 1. nan  2.  9.  7.]\n",
            "Total Values: 5\n",
            "--------------------------------------------\n",
            "CVDINFR4:\n",
            "[2. 7. 1. 9.]\n",
            "Total Values: 4\n",
            "--------------------------------------------\n",
            "CVDCRHD4:\n",
            "[ 2.  1.  7.  9. nan]\n",
            "Total Values: 5\n",
            "--------------------------------------------\n",
            "CHCSCNCR:\n",
            "[ 2.  1.  7.  9. nan]\n",
            "Total Values: 5\n",
            "--------------------------------------------\n",
            "CHCOCNCR:\n",
            "[2. 1. 7. 9.]\n",
            "Total Values: 4\n",
            "--------------------------------------------\n",
            "ADDEPEV2:\n",
            "[1. 2. 9. 7.]\n",
            "Total Values: 4\n",
            "--------------------------------------------\n",
            "DIABETE3:\n",
            "[ 3.  1.  4.  2.  7. nan  9.]\n",
            "Total Values: 7\n",
            "--------------------------------------------\n",
            "SEX:\n",
            "[2. 1.]\n",
            "Total Values: 2\n",
            "--------------------------------------------\n",
            "MARITAL:\n",
            "[1. 2. 3. 6. 5. 4. 9.]\n",
            "Total Values: 7\n",
            "--------------------------------------------\n",
            "EDUCA:\n",
            "[4. 6. 5. 3. 2. 9. 1.]\n",
            "Total Values: 7\n",
            "--------------------------------------------\n",
            "VETERAN3:\n",
            "[ 2.  1.  9.  7. nan]\n",
            "Total Values: 5\n",
            "--------------------------------------------\n",
            "EMPLOY1:\n",
            "[8. 3. 7. 2. 5. 9. 1. 4. 6.]\n",
            "Total Values: 9\n",
            "--------------------------------------------\n",
            "CHILDREN:\n",
            "[88.  1.  2. 99.  3.  4.  6.  5.  8. 10.  9.  7. 12. 13. nan 14. 32. 20.\n",
            " 23. 22. 11. 15. 52. 41. 18. 77. 17.]\n",
            "Total Values: 27\n",
            "--------------------------------------------\n",
            "INCOME2:\n",
            "[ 3.  1. 99.  8. 77.  6.  4.  7.  5.  2. nan]\n",
            "Total Values: 11\n",
            "--------------------------------------------\n",
            "INTERNET:\n",
            "[ 2.  1. nan  9.  7.]\n",
            "Total Values: 5\n",
            "--------------------------------------------\n",
            "AVEDRNK2:\n",
            "[nan  1.  2.  3.  6.  4.  5.  8. 77. 12.  7.  9. 25. 15. 99. 10. 24. 20.\n",
            " 36. 70. 16. 18. 30. 13. 14. 11. 45. 40. 60. 52. 56. 64. 55. 34. 17. 76.\n",
            " 26. 50. 31. 19. 75. 48. 35. 43. 33. 28. 21. 44. 22. 23. 27.]\n",
            "Total Values: 51\n",
            "--------------------------------------------\n",
            "DRNK3GE5:\n",
            "[nan 88. 15.  2.  1. 77.  3. 16.  7.  4.  5. 30. 10. 99. 25.  6.  8. 60.\n",
            "  9. 12. 20. 11. 21. 28. 24. 33. 18. 29. 14. 19. 26. 17. 13. 22. 23. 27.\n",
            " 40. 76. 36. 31. 55. 35. 56. 50. 32.]\n",
            "Total Values: 45\n",
            "--------------------------------------------\n",
            "MAXDRNKS:\n",
            "[nan  1.  2.  3. 10.  6. 77.  4. 99.  8.  5. 48. 12. 11. 25. 20.  9.  7.\n",
            " 15. 40. 30. 14. 24. 18. 13. 17. 35. 50. 16. 71. 26. 23. 76. 36. 22. 61.\n",
            " 45. 32. 56. 64. 52. 47. 27. 28. 38. 34. 60. 41. 33. 70. 65. 21. 19. 55.\n",
            " 62. 72. 43. 51. 31. 42. 66. 39. 29.]\n",
            "Total Values: 63\n",
            "--------------------------------------------\n",
            "EXERANY2:\n",
            "[ 2.  1. nan  9.  7.]\n",
            "Total Values: 5\n",
            "--------------------------------------------\n",
            "PREDIAB1:\n",
            "[ 3. nan  1.  2.  7.  9.]\n",
            "Total Values: 6\n",
            "--------------------------------------------\n",
            "SXORIENT:\n",
            "[nan  1.  3.  2.  7.  9.  4.]\n",
            "Total Values: 7\n",
            "--------------------------------------------\n",
            "TRNSGNDR:\n",
            "[nan  4.  7.  9.  1.  2.  3.]\n",
            "Total Values: 7\n",
            "--------------------------------------------\n",
            "ADPLEASR:\n",
            "[nan  2. 88.  1.  3. 77. 14.  5.  6. 99.  7. 12.  4. 10.  8.  9. 11. 13.]\n",
            "Total Values: 18\n",
            "--------------------------------------------\n",
            "ADDOWN:\n",
            "[nan 88. 14.  2.  8.  5.  4. 12.  1.  7. 10.  3. 99. 77.  6.  9. 13. 11.]\n",
            "Total Values: 18\n",
            "--------------------------------------------\n",
            "ADSLEEP:\n",
            "[nan 88.  7. 14.  6.  3. 77.  5.  4.  2.  1.  8. 12. 10.  9. 13. 99. 11.]\n",
            "Total Values: 18\n",
            "--------------------------------------------\n",
            "ADENERGY:\n",
            "[nan 88.  1. 77. 10. 11.  2.  5. 14.  3.  9.  7.  4. 99.  6. 12. 13.  8.]\n",
            "Total Values: 18\n",
            "--------------------------------------------\n",
            "ADEAT1:\n",
            "[nan 88.  1. 77. 14.  5.  3.  8.  2.  7. 10. 99.  4.  6. 12. 13.  9. 11.]\n",
            "Total Values: 18\n",
            "--------------------------------------------\n",
            "ADFAIL:\n",
            "[nan 88.  3.  2. 14. 10.  1. 99.  4.  7. 12.  5.  8. 77.  6. 11.  9. 13.]\n",
            "Total Values: 18\n",
            "--------------------------------------------\n",
            "ADTHINK:\n",
            "[nan 88.  2. 77.  3. 14.  5.  7. 12. 10.  1. 99.  4.  6.  8.  9. 13. 11.]\n",
            "Total Values: 18\n",
            "--------------------------------------------\n",
            "ADMOVE:\n",
            "[nan 88.  5.  4.  1. 10.  3. 14.  2. 99. 77.  6. 11.  7. 12.  8.  9. 13.]\n",
            "Total Values: 18\n",
            "--------------------------------------------\n",
            "MISTMNT:\n",
            "[nan  2.  1.  7.  9.]\n",
            "Total Values: 5\n",
            "--------------------------------------------\n",
            "ADANXEV:\n",
            "[nan  2.  1.  9.  7.]\n",
            "Total Values: 5\n"
          ]
        }
      ]
    },
    {
      "cell_type": "markdown",
      "source": [
        "## **Transformations**"
      ],
      "metadata": {
        "id": "bEqwWygzI1R9"
      }
    },
    {
      "cell_type": "markdown",
      "source": [
        "**States**"
      ],
      "metadata": {
        "id": "g1vrae1ZJwLW"
      }
    },
    {
      "cell_type": "markdown",
      "source": [
        "I need to map the BFRSS states to the numbers in the codebook"
      ],
      "metadata": {
        "id": "lw7JLmIcCQGC"
      }
    },
    {
      "cell_type": "code",
      "source": [
        "nums = [1,2,4,5,6,8,9,10,11,12,13,15,16,17,18,19,20,21,22,23,24,25,26,27,28,29,30,31,\n",
        "32,33,34,35,36,37,38,39,40,41,42,44,45,46,47,48,49,50,51,53,54,55,56,66,72,]"
      ],
      "metadata": {
        "id": "fP-DDEHV-a7W"
      },
      "execution_count": null,
      "outputs": []
    },
    {
      "cell_type": "code",
      "source": [
        "abbr =['AL', 'AR', 'AZ', 'AK','CA', 'CO', 'CT', 'DC', 'DE', 'FL', 'GA',\n",
        "           'HI', 'IA', 'ID', 'IL', 'IN', 'KS', 'KY', 'LA', 'MA', 'MD', 'ME',\n",
        "           'MI', 'MN', 'MO', 'MS', 'MT', 'NC', 'ND', 'NE', 'NH', 'NJ', 'NM',\n",
        "           'NV', 'NY', 'OH', 'OK', 'OR', 'PA', 'RI', 'SC', 'SD', 'TN', 'TX',\n",
        "           'UT', 'VA', 'VT', 'WA', 'WI', 'WV', 'WY', 'GU','PR']\n",
        "\n",
        "abbrs = dict(zip(nums,abbr))\n",
        "\n",
        "print(abbrs)"
      ],
      "metadata": {
        "id": "wc7CHS6OLpww",
        "colab": {
          "base_uri": "https://localhost:8080/"
        },
        "outputId": "d03d4783-fc7f-4743-ea41-dd01b39e21da"
      },
      "execution_count": null,
      "outputs": [
        {
          "output_type": "stream",
          "name": "stdout",
          "text": [
            "{1: 'AL', 2: 'AR', 4: 'AZ', 5: 'AK', 6: 'CA', 8: 'CO', 9: 'CT', 10: 'DC', 11: 'DE', 12: 'FL', 13: 'GA', 15: 'HI', 16: 'IA', 17: 'ID', 18: 'IL', 19: 'IN', 20: 'KS', 21: 'KY', 22: 'LA', 23: 'MA', 24: 'MD', 25: 'ME', 26: 'MI', 27: 'MN', 28: 'MO', 29: 'MS', 30: 'MT', 31: 'NC', 32: 'ND', 33: 'NE', 34: 'NH', 35: 'NJ', 36: 'NM', 37: 'NV', 38: 'NY', 39: 'OH', 40: 'OK', 41: 'OR', 42: 'PA', 44: 'RI', 45: 'SC', 46: 'SD', 47: 'TN', 48: 'TX', 49: 'UT', 50: 'VA', 51: 'VT', 53: 'WA', 54: 'WI', 55: 'WV', 56: 'WY', 66: 'GU', 72: 'PR'}\n"
          ]
        }
      ]
    },
    {
      "cell_type": "code",
      "source": [
        "df['_STATE'] = df['_STATE'].replace(abbrs)"
      ],
      "metadata": {
        "id": "oeZJPVQCJyiW"
      },
      "execution_count": null,
      "outputs": []
    },
    {
      "cell_type": "markdown",
      "source": [
        "**Demographics Data**"
      ],
      "metadata": {
        "id": "xLfvf98kEiEF"
      }
    },
    {
      "cell_type": "code",
      "source": [
        "df['SEX'] = df['SEX'].replace({1:0,2:1})\n",
        "df['MARITAL'] = df['MARITAL'].replace({1:'Marr',2:'Divorced',3:'Widowed',4:'Seperated',5:'NevMarr',6:'Partnered_unmarr',9:np.nan})\n",
        "df['CHILDREN'] = df['CHILDREN'].replace({88:0,77:np.nan,99:np.nan})\n",
        "df['CHILDREN'] = df['CHILDREN'].replace({2:0,7:np.nan,9:np.nan})"
      ],
      "metadata": {
        "id": "ENMcBWMGzO_T"
      },
      "execution_count": null,
      "outputs": []
    },
    {
      "cell_type": "code",
      "source": [
        "df['VETERAN3'] = df['VETERAN3'].replace({2:0,7:np.nan,9:np.nan})"
      ],
      "metadata": {
        "id": "JHykZ54lHgTu"
      },
      "execution_count": null,
      "outputs": []
    },
    {
      "cell_type": "code",
      "source": [
        "df['EDUCA'] = df['EDUCA'].replace({9:np.nan})\n",
        "df.EDUCA[df['EDUCA'] == 1] = 'Never Attended School'\n",
        "df.EDUCA[df['EDUCA'] == 2] = 'Elementary'\n",
        "df.EDUCA[df['EDUCA'] == 3] = 'Some high school'\n",
        "df.EDUCA[df['EDUCA'] == 4] = 'High school graduate'\n",
        "df.EDUCA[df['EDUCA'] == 5] = 'Some college or technical school'\n",
        "df.EDUCA[df['EDUCA'] == 6] = 'College graduate'"
      ],
      "metadata": {
        "id": "i0bE6P-pEtJ8"
      },
      "execution_count": null,
      "outputs": []
    },
    {
      "cell_type": "markdown",
      "source": [
        "**Income Data**"
      ],
      "metadata": {
        "id": "ZUOiecY_H6n2"
      }
    },
    {
      "cell_type": "code",
      "source": [
        "df['INCOME2'] = df['INCOME2'].replace({77:np.nan,99:np.nan})\n",
        "df.INCOME2[df['INCOME2'] == 1] = 'Less Than $10,000'\n",
        "df.INCOME2[df['INCOME2'] == 2] = 'Less Than $15,000'\n",
        "df.INCOME2[df['INCOME2'] == 3] = 'Less Than $20,000'\n",
        "df.INCOME2[df['INCOME2'] == 4] = 'Less Than $25,000'\n",
        "df.INCOME2[df['INCOME2'] == 5] = 'Less Than $35,000'\n",
        "df.INCOME2[df['INCOME2'] == 6] = 'Less Than $50,000'\n",
        "df.INCOME2[df['INCOME2'] == 7] = 'Less Than $75,000'\n",
        "df.INCOME2[df['INCOME2'] == 8] = '$75,000 or More'"
      ],
      "metadata": {
        "id": "Gp_nhXyMH8en"
      },
      "execution_count": null,
      "outputs": []
    },
    {
      "cell_type": "markdown",
      "source": [
        "**Sexual Orientation and Gender Identity**"
      ],
      "metadata": {
        "id": "eZBZ6DOPFEdG"
      }
    },
    {
      "cell_type": "code",
      "source": [
        "df['SXORIENT'] = df['SXORIENT'].replace({1:'Str8',2:'Gay',3:'Bi',4:'Other',9:np.nan,7:np.nan})"
      ],
      "metadata": {
        "id": "a-YI-3XUFICu"
      },
      "execution_count": null,
      "outputs": []
    },
    {
      "cell_type": "code",
      "source": [
        "df['TRNSGNDR'] = df['TRNSGNDR'].replace({1:'M->F',2:'F->M',3:'Non-Binary',4:'Cis',9:np.nan,7:np.nan})"
      ],
      "metadata": {
        "id": "6rKTPbfXFcjV"
      },
      "execution_count": null,
      "outputs": []
    },
    {
      "cell_type": "markdown",
      "source": [
        "**Depression Data**"
      ],
      "metadata": {
        "id": "0hl-DfSB3Hv5"
      }
    },
    {
      "cell_type": "code",
      "source": [
        "df['ADDEPEV2'] = df['ADDEPEV2'].replace({2:0,7:np.nan,9:np.nan})\n",
        "for col in df.iloc[:,29:]:\n",
        "  df[col] = df[col].replace({88:0,77:np.nan,99:np.nan})\n",
        "df['MISTMNT'] = df['MISTMNT'].replace({2:0,7:np.nan,9:np.nan})\n",
        "df['ADANXEV'] = df['ADANXEV'].replace({2:0,7:np.nan,9:np.nan})"
      ],
      "metadata": {
        "id": "ngu4afDm3MlA"
      },
      "execution_count": null,
      "outputs": []
    },
    {
      "cell_type": "markdown",
      "source": [
        "**Health**"
      ],
      "metadata": {
        "id": "3s8oI4PqG4A2"
      }
    },
    {
      "cell_type": "code",
      "source": [
        "df['GENHLTH'] = df['GENHLTH'].replace({9:np.nan,7:np.nan})\n",
        "df['GENHLTH'] = df['GENHLTH'].apply(lambda x: 1 if x < 4 else 0)\n",
        "df['PHYSHLTH'] = df['PHYSHLTH'].replace({88:0,77:np.nan,99:np.nan})\n",
        "df['MENTHLTH'] = df['MENTHLTH'].replace({88:0,77:np.nan,99:np.nan})\n",
        "df['POORHLTH'] = df['POORHLTH'].replace({88:0,77:np.nan,99:np.nan})"
      ],
      "metadata": {
        "id": "lBF3lo5tG69H"
      },
      "execution_count": null,
      "outputs": []
    },
    {
      "cell_type": "code",
      "source": [
        "df['DIABETE3'] = df['DIABETE3'].replace({7:np.nan,9:np.nan})\n",
        "df['DIABETE3'] = df['DIABETE3'].apply(lambda x: 1 if x <3 else 0)\n"
      ],
      "metadata": {
        "id": "JjF-WmdLHa4e"
      },
      "execution_count": null,
      "outputs": []
    },
    {
      "cell_type": "code",
      "source": [
        "df['CVDCRHD4'] = df['CVDCRHD4'].replace({2:0,7:np.nan,9:np.nan})\n",
        "df.rename(columns={'CVDCRHD4':'HRTDOAGIN'},inplace=True)"
      ],
      "metadata": {
        "id": "5MBcR97DIhKd"
      },
      "execution_count": null,
      "outputs": []
    },
    {
      "cell_type": "code",
      "source": [
        "df['CVDINFR4'] = df['CVDINFR4'].replace({2:0,7:np.nan,9:np.nan})"
      ],
      "metadata": {
        "id": "ICV_HMfpIiUV"
      },
      "execution_count": null,
      "outputs": []
    },
    {
      "cell_type": "code",
      "source": [
        "df['PREDIAB1'] = df['PREDIAB1'].replace({2:1,3:0,7:np.nan,9:np.nan})\n",
        "df['CHCSCNCR'] = df['CHCSCNCR'].replace({2:0,7:np.nan,9:np.nan})\n",
        "df['CHCOCNCR'] = df['CHCOCNCR'].replace({2:0,7:np.nan,9:np.nan})"
      ],
      "metadata": {
        "id": "Eb2jiydrIkxd"
      },
      "execution_count": null,
      "outputs": []
    },
    {
      "cell_type": "markdown",
      "source": [
        "**Alcohol**"
      ],
      "metadata": {
        "id": "RD1b0z0SHjjf"
      }
    },
    {
      "cell_type": "code",
      "source": [
        "df['AVEDRNK2'] = df['AVEDRNK2'].replace({77:np.nan,99:np.nan})\n",
        "df['DRNK3GE5'] = df['DRNK3GE5'].replace({88:0,77:np.nan,99:np.nan})\n",
        "df['MAXDRNKS'] = df['MAXDRNKS'].replace({77:np.nan,99:np.nan})"
      ],
      "metadata": {
        "id": "gK4PQ_RHHi_n"
      },
      "execution_count": null,
      "outputs": []
    },
    {
      "cell_type": "markdown",
      "source": [
        "**Medical Bills and Meds**"
      ],
      "metadata": {
        "id": "nu6_AKXtHMDV"
      }
    },
    {
      "cell_type": "code",
      "source": [
        "df['HLTHPLN1'] = df['HLTHPLN1'].replace({2:0,7:np.nan,9:np.nan})\n",
        "df['MEDCOST'] = df['MEDCOST'].replace({2:0,7:np.nan,9:np.nan})\n",
        "df['BPMEDS'] = df['BPMEDS'].replace({2:0,7:np.nan,9:np.nan})"
      ],
      "metadata": {
        "id": "GIsb5mqpHQYm"
      },
      "execution_count": null,
      "outputs": []
    },
    {
      "cell_type": "markdown",
      "source": [
        "## **Duplicates**"
      ],
      "metadata": {
        "id": "dNXiiajoI5Hv"
      }
    },
    {
      "cell_type": "code",
      "source": [
        "df.duplicated().sum()\n",
        "df.drop_duplicates(inplace = True)"
      ],
      "metadata": {
        "id": "o-kLrmnmI7Xf"
      },
      "execution_count": null,
      "outputs": []
    },
    {
      "cell_type": "code",
      "source": [
        "df.shape"
      ],
      "metadata": {
        "id": "rRTYMphBJAYO",
        "colab": {
          "base_uri": "https://localhost:8080/"
        },
        "outputId": "22f4021a-6365-4c99-9716-ac6248ba702c"
      },
      "execution_count": null,
      "outputs": [
        {
          "output_type": "execute_result",
          "data": {
            "text/plain": [
              "(418453, 39)"
            ]
          },
          "metadata": {},
          "execution_count": 25
        }
      ]
    },
    {
      "cell_type": "markdown",
      "source": [
        "## **Missing Data**"
      ],
      "metadata": {
        "id": "UovUfvOIJHfG"
      }
    },
    {
      "cell_type": "code",
      "source": [
        "print(\"Precentage of data missing\")\n",
        "print('--------------------------------------------')\n",
        "for col in df.columns:\n",
        "  nans = df[col].isna().sum()\n",
        "  missing_ = np.round_((nans/441456) * 100,decimals=1)\n",
        "  if missing_ >= 50:\n",
        "    print(f'{col}: %{missing_}')\n",
        "  else:\n",
        "    continue\n",
        "print('--------------------------------------------')\n",
        "print(df['SXORIENT'].value_counts())\n",
        "print('--------------------------------------------')\n",
        "print(df['MARITAL'].value_counts())"
      ],
      "metadata": {
        "colab": {
          "base_uri": "https://localhost:8080/"
        },
        "id": "S924Z8iHJJw-",
        "outputId": "f5b03ca2-e347-4b33-8f18-7b84d3c6c772"
      },
      "execution_count": null,
      "outputs": [
        {
          "output_type": "stream",
          "name": "stdout",
          "text": [
            "Precentage of data missing\n",
            "--------------------------------------------\n",
            "BPMEDS: %55.4\n",
            "AVEDRNK2: %50.2\n",
            "DRNK3GE5: %50.2\n",
            "MAXDRNKS: %51.1\n",
            "PREDIAB1: %76.9\n",
            "SXORIENT: %60.3\n",
            "TRNSGNDR: %59.8\n",
            "ADPLEASR: %90.4\n",
            "ADDOWN: %90.3\n",
            "ADSLEEP: %90.3\n",
            "ADENERGY: %90.3\n",
            "ADEAT1: %90.3\n",
            "ADFAIL: %90.3\n",
            "ADTHINK: %90.3\n",
            "ADMOVE: %90.3\n",
            "MISTMNT: %90.2\n",
            "ADANXEV: %90.2\n",
            "--------------------------------------------\n",
            "Str8     147255\n",
            "Bi         2261\n",
            "Gay        2237\n",
            "Other       581\n",
            "Name: SXORIENT, dtype: int64\n",
            "--------------------------------------------\n",
            "Marr                213726\n",
            "NevMarr              66340\n",
            "Divorced             58622\n",
            "Widowed              55147\n",
            "Partnered_unmarr     12583\n",
            "Seperated             8956\n",
            "Name: MARITAL, dtype: int64\n"
          ]
        }
      ]
    },
    {
      "cell_type": "markdown",
      "source": [
        "**Data Imputation With the Median**"
      ],
      "metadata": {
        "id": "Fo_34_FbJcRP"
      }
    },
    {
      "cell_type": "code",
      "source": [
        "for col in df.columns:\n",
        "  if df[col].dtype != 'object':\n",
        "    df[col].fillna(df[col].median(),inplace=True)\n",
        "\n",
        "df['SXORIENT'].fillna('Str8',inplace=True)\n",
        "df['MARITAL'].fillna('Marr',inplace=True)"
      ],
      "metadata": {
        "id": "OFbbP7dvJZT2"
      },
      "execution_count": null,
      "outputs": []
    },
    {
      "cell_type": "code",
      "source": [
        "def hypothesis_decision(pvalue):\n",
        "  if pvalue < 0.05:\n",
        "    print(f'We Reject the null hypothesis since our p-value ({np.round_(pvalue,4)}) is less than 0.05')\n",
        "    print(f'We accept the alternative hypothesis')\n",
        "\n",
        "  else:\n",
        "    print(f\"We Reject the alternative hypothesis since our p-value({np.round_(pvalue,4)}) is not less than 0.05\")"
      ],
      "metadata": {
        "id": "mlBywLSsVJPq"
      },
      "execution_count": null,
      "outputs": []
    },
    {
      "cell_type": "markdown",
      "source": [
        "# **Question 1**\n",
        "Is there an association between being non-heterosexual and being diagnosed with depression or anxiety by a provider?"
      ],
      "metadata": {
        "id": "EZpjWE5CtIkQ"
      }
    },
    {
      "cell_type": "markdown",
      "source": [
        "Groupby sex and sexual orientation"
      ],
      "metadata": {
        "id": "dVUU4XSHOcGG"
      }
    },
    {
      "cell_type": "code",
      "source": [
        "sxorient_gp = df.groupby(['SEX','SXORIENT'])"
      ],
      "metadata": {
        "id": "6gynSGOcdx77"
      },
      "execution_count": null,
      "outputs": []
    },
    {
      "cell_type": "code",
      "source": [
        "fig,(ax1,ax2) = plt.subplots(ncols=2,nrows=1,figsize=(15,8),sharey=True)\n",
        "fig.suptitle(\"Ever Diagnosed W/Depression or Anxiety by a Provider\",fontsize=20)\n",
        "# Male\n",
        "sxorient_hlth = sxorient_gp\n",
        "x2 = sxorient_hlth['ADDEPEV2'].mean()[0].values\n",
        "y2 = sxorient_hlth['ADDEPEV2'].mean()[0].index\n",
        "sns.barplot(x2,y2,ax=ax1)\n",
        "ax1.set_xlabel('Male')\n",
        "\n",
        "\n",
        "# Female\n",
        "x4 = sxorient_hlth['ADDEPEV2'].mean()[1].values\n",
        "y4 = sxorient_hlth['ADDEPEV2'].mean()[1].index\n",
        "sns.barplot(x4,y4,ax=ax2)\n",
        "ax2.set_xlabel('Female')\n",
        "ax2.set_ylabel('')\n"
      ],
      "metadata": {
        "colab": {
          "base_uri": "https://localhost:8080/",
          "height": 661
        },
        "id": "dgeR9HCAP1t_",
        "outputId": "c3baa2e5-03b9-4477-b75a-14659fe2b84b"
      },
      "execution_count": null,
      "outputs": [
        {
          "output_type": "stream",
          "name": "stderr",
          "text": [
            "/usr/local/lib/python3.8/dist-packages/seaborn/_decorators.py:36: FutureWarning: Pass the following variables as keyword args: x, y. From version 0.12, the only valid positional argument will be `data`, and passing other arguments without an explicit keyword will result in an error or misinterpretation.\n",
            "  warnings.warn(\n",
            "/usr/local/lib/python3.8/dist-packages/seaborn/_decorators.py:36: FutureWarning: Pass the following variables as keyword args: x, y. From version 0.12, the only valid positional argument will be `data`, and passing other arguments without an explicit keyword will result in an error or misinterpretation.\n",
            "  warnings.warn(\n"
          ]
        },
        {
          "output_type": "execute_result",
          "data": {
            "text/plain": [
              "Text(0, 0.5, '')"
            ]
          },
          "metadata": {},
          "execution_count": 31
        },
        {
          "output_type": "display_data",
          "data": {
            "text/plain": [
              "<Figure size 1080x576 with 2 Axes>"
            ],
            "image/png": "[encoded data removed]"
          },
          "metadata": {
            "needs_background": "light"
          }
        }
      ]
    },
    {
      "cell_type": "markdown",
      "source": [
        "Plotted Depression Variables"
      ],
      "metadata": {
        "id": "OG_weTAqBsgG"
      }
    },
    {
      "cell_type": "code",
      "source": [
        "fig,((ax1,ax2),(ax3,ax4),(ax5,ax6),(ax7,ax8),(ax9,ax10)) = plt.subplots(ncols=2,nrows=5,figsize=(15,12),sharey=False)\n",
        "axs = [(ax1,'ADPLEASR'),(ax2,'ADDOWN'),(ax3,'ADSLEEP'),(ax4,'ADENERGY'),\n",
        "        (ax5,'ADEAT1'),(ax6,'ADFAIL'),(ax7,'ADTHINK'),(ax8,'ADMOVE'),(ax9,'MISTMNT'),(ax10,'ADANXEV')]\n",
        "for ax,col in axs:\n",
        "  y_label = f'mean_{col}'\n",
        "  dp_gp = df.groupby(['SXORIENT', 'SEX']).agg(y_label=(col, 'mean'))\n",
        "  dp_gp = dp_gp.reset_index()\n",
        "  sns.barplot(x='SXORIENT',y=dp_gp.iloc[:,-1],hue='SEX',ax=ax,data=dp_gp)\n",
        "  ax.set_ylabel(y_label)\n",
        "  h, l = ax.get_legend_handles_labels()\n",
        "  ax.legend(h,['M','F'])"
      ],
      "metadata": {
        "colab": {
          "base_uri": "https://localhost:8080/",
          "height": 714
        },
        "id": "AUVPCSxtBkpd",
        "outputId": "ea36d6e6-0b7d-4e06-f27c-fc20a763191a"
      },
      "execution_count": null,
      "outputs": [
        {
          "output_type": "display_data",
          "data": {
            "text/plain": [
              "<Figure size 1080x864 with 10 Axes>"
            ],
            "image/png": "[encoded data removed]"
          },
          "metadata": {
            "needs_background": "light"
          }
        }
      ]
    },
    {
      "cell_type": "markdown",
      "source": [
        "It seems like those who identify as other may have higher rates of depressive/anxious symptoms. Other could mean pansexual,asexual, metrosexual,etc. No way of knowing without the data."
      ],
      "metadata": {
        "id": "lhIsny1AjgZn"
      }
    },
    {
      "cell_type": "markdown",
      "source": [
        "# **Question 2**:\n",
        "Do Bisexual indivdiuals have pooerer mental health compared to their gay counterparts?"
      ],
      "metadata": {
        "id": "zGfXDKBItrcj"
      }
    },
    {
      "cell_type": "code",
      "source": [
        "fig,(ax1,ax2) = plt.subplots(ncols=2,nrows=1,figsize=(15,8),sharey=True)\n",
        "fig.suptitle(\"Average Days Mental Health Not Good\",fontsize = 20)\n",
        "# Male\n",
        "x1 = sxorient_hlth['MENTHLTH'].mean()[0].values\n",
        "y1 = sxorient_hlth['MENTHLTH'].mean()[0].index\n",
        "sns.barplot(x1,y1,ax=ax1)\n",
        "ax1.set_xlabel('Male')\n",
        "\n",
        "\n",
        "# Female\n",
        "x3 = sxorient_hlth['MENTHLTH'].mean()[1].values\n",
        "y3 = sxorient_hlth['MENTHLTH'].mean()[1].index\n",
        "sns.barplot(x3,y3,ax=ax2)\n",
        "ax2.set_xlabel('Female')\n",
        "ax2.set_ylabel('')"
      ],
      "metadata": {
        "colab": {
          "base_uri": "https://localhost:8080/",
          "height": 661
        },
        "id": "lU2I_4Q0tmqT",
        "outputId": "34314ade-84b2-48aa-c141-e7a7212a55f4"
      },
      "execution_count": null,
      "outputs": [
        {
          "output_type": "stream",
          "name": "stderr",
          "text": [
            "/usr/local/lib/python3.8/dist-packages/seaborn/_decorators.py:36: FutureWarning: Pass the following variables as keyword args: x, y. From version 0.12, the only valid positional argument will be `data`, and passing other arguments without an explicit keyword will result in an error or misinterpretation.\n",
            "  warnings.warn(\n",
            "/usr/local/lib/python3.8/dist-packages/seaborn/_decorators.py:36: FutureWarning: Pass the following variables as keyword args: x, y. From version 0.12, the only valid positional argument will be `data`, and passing other arguments without an explicit keyword will result in an error or misinterpretation.\n",
            "  warnings.warn(\n"
          ]
        },
        {
          "output_type": "execute_result",
          "data": {
            "text/plain": [
              "Text(0, 0.5, '')"
            ]
          },
          "metadata": {},
          "execution_count": 50
        },
        {
          "output_type": "display_data",
          "data": {
            "text/plain": [
              "<Figure size 1080x576 with 2 Axes>"
            ],
            "image/png": "[encoded data removed]"
          },
          "metadata": {
            "needs_background": "light"
          }
        }
      ]
    },
    {
      "cell_type": "markdown",
      "source": [
        "## **Question 2a**"
      ],
      "metadata": {
        "id": "0193Jv-kWT95"
      }
    },
    {
      "cell_type": "markdown",
      "source": [
        "I want to determine if there is a significant difference between the numbers of reported days of poor mental health between bisexual people and gay people"
      ],
      "metadata": {
        "id": "07AAQizVWb7K"
      }
    },
    {
      "cell_type": "markdown",
      "source": [
        "### **Hypothesis:**\n",
        "Bisexual people will have a higher mean of reported days of poor mental health compared to gay people?"
      ],
      "metadata": {
        "id": "1Ke9V8mIzivN"
      }
    },
    {
      "cell_type": "markdown",
      "source": [
        "We don't have a normal distribution with the data at hand. However, because the dataset is large enough greater than 30 samples, using central limit theorm we can sample the dataset to approximate a normal distribution with the sample means."
      ],
      "metadata": {
        "id": "m1E1_WWg6CQT"
      }
    },
    {
      "cell_type": "code",
      "source": [
        "bi_df = df[df['SXORIENT'] == 'Bi']\n",
        "gay_df = df[df['SXORIENT'] == 'Gay']\n",
        "CLT_bi = []\n",
        "CLT_gay = []\n",
        "for i in range(0,100):\n",
        "  CLT_bi.append(bi_df['MENTHLTH'].sample(1000).mean())\n",
        "  CLT_gay.append(gay_df['MENTHLTH'].sample(1000).mean())\n",
        "fig, (ax1,ax2) = plt.subplots(1,2,figsize=(15,5))\n",
        "sns.distplot(CLT_bi,ax=ax1)\n",
        "sns.distplot(CLT_gay,ax=ax2)\n",
        "print(np.std(CLT_bi),np.std(CLT_gay))"
      ],
      "metadata": {
        "colab": {
          "base_uri": "https://localhost:8080/",
          "height": 427
        },
        "id": "nO0AEmCx2lpF",
        "outputId": "e9a11c96-e345-4fab-dcf7-26941ebf803f"
      },
      "execution_count": null,
      "outputs": [
        {
          "output_type": "stream",
          "name": "stderr",
          "text": [
            "/usr/local/lib/python3.8/dist-packages/seaborn/distributions.py:2619: FutureWarning: `distplot` is a deprecated function and will be removed in a future version. Please adapt your code to use either `displot` (a figure-level function with similar flexibility) or `histplot` (an axes-level function for histograms).\n",
            "  warnings.warn(msg, FutureWarning)\n",
            "/usr/local/lib/python3.8/dist-packages/seaborn/distributions.py:2619: FutureWarning: `distplot` is a deprecated function and will be removed in a future version. Please adapt your code to use either `displot` (a figure-level function with similar flexibility) or `histplot` (an axes-level function for histograms).\n",
            "  warnings.warn(msg, FutureWarning)\n"
          ]
        },
        {
          "output_type": "stream",
          "name": "stdout",
          "text": [
            "0.24438521456913065 0.19790085800723559\n"
          ]
        },
        {
          "output_type": "display_data",
          "data": {
            "text/plain": [
              "<Figure size 1080x360 with 2 Axes>"
            ],
            "image/png": "[encoded data removed]"
          },
          "metadata": {
            "needs_background": "light"
          }
        }
      ]
    },
    {
      "cell_type": "code",
      "source": [
        "from scipy.stats import ttest_ind as T_test\n",
        "\n",
        "stat,pvalue = T_test(bi_df['MENTHLTH'],gay_df['MENTHLTH'],equal_var=False,alternative='greater')\n",
        "\n",
        "hypothesis_decision(pvalue)\n",
        "bi_mean = np.round_(np.mean(bi_df['MENTHLTH']),2)\n",
        "bi_std = np.round_(np.std(bi_df['MENTHLTH']),2)\n",
        "gay_mean = np.round_(np.mean(gay_df['MENTHLTH']),2)\n",
        "gay_std = np.round_(np.std(gay_df['MENTHLTH']),2)\n",
        "\n",
        "print(f'''\\nA two sample t-test was conducted assuming normality of the distributions of the mean,\n",
        "with sample sizes {len(bi_df)} and {len(gay_df)} amongst bi (u={bi_mean},std={bi_std}) and gay (u={gay_mean},std={gay_std}) individuals,respecfully.\n",
        "The t-test statistic is t={stat} and the dgrees of freedom is df={(len(bi_df)+len(gay_df))-2}\n",
        "and the p-value={np.round_(pvalue,4)}. This indicates bi individuals have a significanly greater\n",
        "average number of days they report poor mental health compared to gay people at the alpha= 0.05 level.''' )"
      ],
      "metadata": {
        "id": "27sWZnXpcwVU",
        "colab": {
          "base_uri": "https://localhost:8080/"
        },
        "outputId": "243200a4-d00c-44dd-ccae-331fefb8cdcd"
      },
      "execution_count": null,
      "outputs": [
        {
          "output_type": "stream",
          "name": "stdout",
          "text": [
            "We Reject the null hypothesis since our p-value (0.0) is less than 0.05\n",
            "We accept the alternative hypothesis\n",
            "\n",
            "A two sample t-test was conducted assuming normality of the distributions of the mean, \n",
            "with sample sizes 2261 and 2237 amongst bi (u=6.64,std=9.81) and gay (u=4.76,std=8.64) individuals,respecfully. \n",
            "The t-test statistic is t=6.826320340901352 and the dgrees of freedom is df=4496\n",
            "and the p-value=0.0. This indicates bi individuals have a significanly greater\n",
            "average number of days they report poor mental health compared to gay people at the alpha= 0.05 level.\n"
          ]
        }
      ]
    },
    {
      "cell_type": "markdown",
      "source": [
        "# **Question 3**:\n",
        "Is there an association between being non-cis individuals,the state, and  being diagnosed with depression or anxiety by a provider?"
      ],
      "metadata": {
        "id": "ySYabMQ3thp_"
      }
    },
    {
      "cell_type": "code",
      "source": [
        "trns_gp = df.groupby(['TRNSGNDR'])"
      ],
      "metadata": {
        "id": "Q-GcVOBvWsoI"
      },
      "execution_count": null,
      "outputs": []
    },
    {
      "cell_type": "code",
      "source": [
        "trns_gp.mean()"
      ],
      "metadata": {
        "colab": {
          "base_uri": "https://localhost:8080/",
          "height": 288
        },
        "id": "HNJKsoCVW2hx",
        "outputId": "4fb6a702-6ae1-4750-aa3b-eb589d29235c"
      },
      "execution_count": null,
      "outputs": [
        {
          "output_type": "execute_result",
          "data": {
            "text/plain": [
              "             GENHLTH  PHYSHLTH  MENTHLTH  POORHLTH  HLTHPLN1   MEDCOST  \\\n",
              "TRNSGNDR                                                                 \n",
              "Cis         0.808527  4.359984  3.357733  2.705781  0.930956  0.095968   \n",
              "F->M        0.784810  5.434599  4.746835  3.426160  0.864979  0.101266   \n",
              "M->F        0.770083  4.675900  3.808864  3.576177  0.922438  0.124654   \n",
              "Non-Binary  0.681818  5.058442  4.597403  4.136364  0.876623  0.142857   \n",
              "\n",
              "              BPMEDS  CVDINFR4  HRTDOAGIN  CHCSCNCR  CHCOCNCR  ADDEPEV2  \\\n",
              "TRNSGNDR                                                                  \n",
              "Cis         0.932075  0.060503   0.060613  0.100528  0.107111  0.204243   \n",
              "F->M        0.936709  0.046414   0.059072  0.059072  0.080169  0.261603   \n",
              "M->F        0.916898  0.091413   0.080332  0.060942  0.080332  0.254848   \n",
              "Non-Binary  0.896104  0.103896   0.097403  0.077922  0.064935  0.311688   \n",
              "\n",
              "            DIABETE3       SEX  VETERAN3   EMPLOY1  CHILDREN  INTERNET  \\\n",
              "TRNSGNDR                                                                 \n",
              "Cis         0.145548  0.574537  0.135635  3.974858  0.309792  1.217370   \n",
              "F->M        0.156118  0.658228  0.097046  4.345992  0.514768  1.303797   \n",
              "M->F        0.185596  0.263158  0.204986  4.146814  0.229917  1.288089   \n",
              "Non-Binary  0.162338  0.500000  0.155844  4.292208  0.298701  1.318182   \n",
              "\n",
              "            AVEDRNK2  DRNK3GE5  MAXDRNKS  EXERANY2  PREDIAB1  ADPLEASR  \\\n",
              "TRNSGNDR                                                                 \n",
              "Cis         2.073447  0.541531  2.591632  1.291923  0.016848  0.063970   \n",
              "F->M        2.012658  0.417722  2.383966  1.396624  0.033755  0.071730   \n",
              "M->F        2.487535  0.747922  2.867036  1.263158  0.022161  0.141274   \n",
              "Non-Binary  2.883117  0.941558  3.025974  1.370130  0.038961  0.538961   \n",
              "\n",
              "              ADDOWN   ADSLEEP  ADENERGY    ADEAT1    ADFAIL   ADTHINK  \\\n",
              "TRNSGNDR                                                                 \n",
              "Cis         0.057699  0.140123  2.089872  0.086900  0.047278  0.042783   \n",
              "F->M        0.050633  0.075949  2.029536  0.029536  0.054852  0.008439   \n",
              "M->F        0.041551  0.132964  2.055402  0.132964  0.080332  0.091413   \n",
              "Non-Binary  0.558442  0.759740  2.467532  1.149351  0.474026  0.162338   \n",
              "\n",
              "              ADMOVE   MISTMNT   ADANXEV  \n",
              "TRNSGNDR                                  \n",
              "Cis         0.031178  0.006102  0.007240  \n",
              "F->M        0.037975  0.016878  0.012658  \n",
              "M->F        0.127424  0.008310  0.005540  \n",
              "Non-Binary  0.448052  0.019481  0.019481  "
            ],
            "text/html": [
              "\n",
              "  <div id=\"df-2df8b1ec-3f71-4d90-b275-c28683056bfd\">\n",
              "    <div class=\"colab-df-container\">\n",
              "      <div>\n",
              "<style scoped>\n",
              "    .dataframe tbody tr th:only-of-type {\n",
              "        vertical-align: middle;\n",
              "    }\n",
              "\n",
              "    .dataframe tbody tr th {\n",
              "        vertical-align: top;\n",
              "    }\n",
              "\n",
              "    .dataframe thead th {\n",
              "        text-align: right;\n",
              "    }\n",
              "</style>\n",
              "<table border=\"1\" class=\"dataframe\">\n",
              "  <thead>\n",
              "    <tr style=\"text-align: right;\">\n",
              "      <th></th>\n",
              "      <th>GENHLTH</th>\n",
              "      <th>PHYSHLTH</th>\n",
              "      <th>MENTHLTH</th>\n",
              "      <th>POORHLTH</th>\n",
              "      <th>HLTHPLN1</th>\n",
              "      <th>MEDCOST</th>\n",
              "      <th>BPMEDS</th>\n",
              "      <th>CVDINFR4</th>\n",
              "      <th>HRTDOAGIN</th>\n",
              "      <th>CHCSCNCR</th>\n",
              "      <th>CHCOCNCR</th>\n",
              "      <th>ADDEPEV2</th>\n",
              "      <th>DIABETE3</th>\n",
              "      <th>SEX</th>\n",
              "      <th>VETERAN3</th>\n",
              "      <th>EMPLOY1</th>\n",
              "      <th>CHILDREN</th>\n",
              "      <th>INTERNET</th>\n",
              "      <th>AVEDRNK2</th>\n",
              "      <th>DRNK3GE5</th>\n",
              "      <th>MAXDRNKS</th>\n",
              "      <th>EXERANY2</th>\n",
              "      <th>PREDIAB1</th>\n",
              "      <th>ADPLEASR</th>\n",
              "      <th>ADDOWN</th>\n",
              "      <th>ADSLEEP</th>\n",
              "      <th>ADENERGY</th>\n",
              "      <th>ADEAT1</th>\n",
              "      <th>ADFAIL</th>\n",
              "      <th>ADTHINK</th>\n",
              "      <th>ADMOVE</th>\n",
              "      <th>MISTMNT</th>\n",
              "      <th>ADANXEV</th>\n",
              "    </tr>\n",
              "    <tr>\n",
              "      <th>TRNSGNDR</th>\n",
              "      <th></th>\n",
              "      <th></th>\n",
              "      <th></th>\n",
              "      <th></th>\n",
              "      <th></th>\n",
              "      <th></th>\n",
              "      <th></th>\n",
              "      <th></th>\n",
              "      <th></th>\n",
              "      <th></th>\n",
              "      <th></th>\n",
              "      <th></th>\n",
              "      <th></th>\n",
              "      <th></th>\n",
              "      <th></th>\n",
              "      <th></th>\n",
              "      <th></th>\n",
              "      <th></th>\n",
              "      <th></th>\n",
              "      <th></th>\n",
              "      <th></th>\n",
              "      <th></th>\n",
              "      <th></th>\n",
              "      <th></th>\n",
              "      <th></th>\n",
              "      <th></th>\n",
              "      <th></th>\n",
              "      <th></th>\n",
              "      <th></th>\n",
              "      <th></th>\n",
              "      <th></th>\n",
              "      <th></th>\n",
              "      <th></th>\n",
              "    </tr>\n",
              "  </thead>\n",
              "  <tbody>\n",
              "    <tr>\n",
              "      <th>Cis</th>\n",
              "      <td>0.808527</td>\n",
              "      <td>4.359984</td>\n",
              "      <td>3.357733</td>\n",
              "      <td>2.705781</td>\n",
              "      <td>0.930956</td>\n",
              "      <td>0.095968</td>\n",
              "      <td>0.932075</td>\n",
              "      <td>0.060503</td>\n",
              "      <td>0.060613</td>\n",
              "      <td>0.100528</td>\n",
              "      <td>0.107111</td>\n",
              "      <td>0.204243</td>\n",
              "      <td>0.145548</td>\n",
              "      <td>0.574537</td>\n",
              "      <td>0.135635</td>\n",
              "      <td>3.974858</td>\n",
              "      <td>0.309792</td>\n",
              "      <td>1.217370</td>\n",
              "      <td>2.073447</td>\n",
              "      <td>0.541531</td>\n",
              "      <td>2.591632</td>\n",
              "      <td>1.291923</td>\n",
              "      <td>0.016848</td>\n",
              "      <td>0.063970</td>\n",
              "      <td>0.057699</td>\n",
              "      <td>0.140123</td>\n",
              "      <td>2.089872</td>\n",
              "      <td>0.086900</td>\n",
              "      <td>0.047278</td>\n",
              "      <td>0.042783</td>\n",
              "      <td>0.031178</td>\n",
              "      <td>0.006102</td>\n",
              "      <td>0.007240</td>\n",
              "    </tr>\n",
              "    <tr>\n",
              "      <th>F-&gt;M</th>\n",
              "      <td>0.784810</td>\n",
              "      <td>5.434599</td>\n",
              "      <td>4.746835</td>\n",
              "      <td>3.426160</td>\n",
              "      <td>0.864979</td>\n",
              "      <td>0.101266</td>\n",
              "      <td>0.936709</td>\n",
              "      <td>0.046414</td>\n",
              "      <td>0.059072</td>\n",
              "      <td>0.059072</td>\n",
              "      <td>0.080169</td>\n",
              "      <td>0.261603</td>\n",
              "      <td>0.156118</td>\n",
              "      <td>0.658228</td>\n",
              "      <td>0.097046</td>\n",
              "      <td>4.345992</td>\n",
              "      <td>0.514768</td>\n",
              "      <td>1.303797</td>\n",
              "      <td>2.012658</td>\n",
              "      <td>0.417722</td>\n",
              "      <td>2.383966</td>\n",
              "      <td>1.396624</td>\n",
              "      <td>0.033755</td>\n",
              "      <td>0.071730</td>\n",
              "      <td>0.050633</td>\n",
              "      <td>0.075949</td>\n",
              "      <td>2.029536</td>\n",
              "      <td>0.029536</td>\n",
              "      <td>0.054852</td>\n",
              "      <td>0.008439</td>\n",
              "      <td>0.037975</td>\n",
              "      <td>0.016878</td>\n",
              "      <td>0.012658</td>\n",
              "    </tr>\n",
              "    <tr>\n",
              "      <th>M-&gt;F</th>\n",
              "      <td>0.770083</td>\n",
              "      <td>4.675900</td>\n",
              "      <td>3.808864</td>\n",
              "      <td>3.576177</td>\n",
              "      <td>0.922438</td>\n",
              "      <td>0.124654</td>\n",
              "      <td>0.916898</td>\n",
              "      <td>0.091413</td>\n",
              "      <td>0.080332</td>\n",
              "      <td>0.060942</td>\n",
              "      <td>0.080332</td>\n",
              "      <td>0.254848</td>\n",
              "      <td>0.185596</td>\n",
              "      <td>0.263158</td>\n",
              "      <td>0.204986</td>\n",
              "      <td>4.146814</td>\n",
              "      <td>0.229917</td>\n",
              "      <td>1.288089</td>\n",
              "      <td>2.487535</td>\n",
              "      <td>0.747922</td>\n",
              "      <td>2.867036</td>\n",
              "      <td>1.263158</td>\n",
              "      <td>0.022161</td>\n",
              "      <td>0.141274</td>\n",
              "      <td>0.041551</td>\n",
              "      <td>0.132964</td>\n",
              "      <td>2.055402</td>\n",
              "      <td>0.132964</td>\n",
              "      <td>0.080332</td>\n",
              "      <td>0.091413</td>\n",
              "      <td>0.127424</td>\n",
              "      <td>0.008310</td>\n",
              "      <td>0.005540</td>\n",
              "    </tr>\n",
              "    <tr>\n",
              "      <th>Non-Binary</th>\n",
              "      <td>0.681818</td>\n",
              "      <td>5.058442</td>\n",
              "      <td>4.597403</td>\n",
              "      <td>4.136364</td>\n",
              "      <td>0.876623</td>\n",
              "      <td>0.142857</td>\n",
              "      <td>0.896104</td>\n",
              "      <td>0.103896</td>\n",
              "      <td>0.097403</td>\n",
              "      <td>0.077922</td>\n",
              "      <td>0.064935</td>\n",
              "      <td>0.311688</td>\n",
              "      <td>0.162338</td>\n",
              "      <td>0.500000</td>\n",
              "      <td>0.155844</td>\n",
              "      <td>4.292208</td>\n",
              "      <td>0.298701</td>\n",
              "      <td>1.318182</td>\n",
              "      <td>2.883117</td>\n",
              "      <td>0.941558</td>\n",
              "      <td>3.025974</td>\n",
              "      <td>1.370130</td>\n",
              "      <td>0.038961</td>\n",
              "      <td>0.538961</td>\n",
              "      <td>0.558442</td>\n",
              "      <td>0.759740</td>\n",
              "      <td>2.467532</td>\n",
              "      <td>1.149351</td>\n",
              "      <td>0.474026</td>\n",
              "      <td>0.162338</td>\n",
              "      <td>0.448052</td>\n",
              "      <td>0.019481</td>\n",
              "      <td>0.019481</td>\n",
              "    </tr>\n",
              "  </tbody>\n",
              "</table>\n",
              "</div>\n",
              "      <button class=\"colab-df-convert\" onclick=\"convertToInteractive('df-2df8b1ec-3f71-4d90-b275-c28683056bfd')\"\n",
              "              title=\"Convert this dataframe to an interactive table.\"\n",
              "              style=\"display:none;\">\n",
              "        \n",
              "  <svg xmlns=\"http://www.w3.org/2000/svg\" height=\"24px\"viewBox=\"0 0 24 24\"\n",
              "       width=\"24px\">\n",
              "    <path d=\"M0 0h24v24H0V0z\" fill=\"none\"/>\n",
              "    <path d=\"M18.56 5.44l.94 2.06.94-2.06 2.06-.94-2.06-.94-.94-2.06-.94 2.06-2.06.94zm-11 1L8.5 8.5l.94-2.06 2.06-.94-2.06-.94L8.5 2.5l-.94 2.06-2.06.94zm10 10l.94 2.06.94-2.06 2.06-.94-2.06-.94-.94-2.06-.94 2.06-2.06.94z\"/><path d=\"M17.41 7.96l-1.37-1.37c-.4-.4-.92-.59-1.43-.59-.52 0-1.04.2-1.43.59L10.3 9.45l-7.72 7.72c-.78.78-.78 2.05 0 2.83L4 21.41c.39.39.9.59 1.41.59.51 0 1.02-.2 1.41-.59l7.78-7.78 2.81-2.81c.8-.78.8-2.07 0-2.86zM5.41 20L4 18.59l7.72-7.72 1.47 1.35L5.41 20z\"/>\n",
              "  </svg>\n",
              "      </button>\n",
              "      \n",
              "  <style>\n",
              "    .colab-df-container {\n",
              "      display:flex;\n",
              "      flex-wrap:wrap;\n",
              "      gap: 12px;\n",
              "    }\n",
              "\n",
              "    .colab-df-convert {\n",
              "      background-color: #E8F0FE;\n",
              "      border: none;\n",
              "      border-radius: 50%;\n",
              "      cursor: pointer;\n",
              "      display: none;\n",
              "      fill: #1967D2;\n",
              "      height: 32px;\n",
              "      padding: 0 0 0 0;\n",
              "      width: 32px;\n",
              "    }\n",
              "\n",
              "    .colab-df-convert:hover {\n",
              "      background-color: #E2EBFA;\n",
              "      box-shadow: 0px 1px 2px rgba(60, 64, 67, 0.3), 0px 1px 3px 1px rgba(60, 64, 67, 0.15);\n",
              "      fill: #174EA6;\n",
              "    }\n",
              "\n",
              "    [theme=dark] .colab-df-convert {\n",
              "      background-color: #3B4455;\n",
              "      fill: #D2E3FC;\n",
              "    }\n",
              "\n",
              "    [theme=dark] .colab-df-convert:hover {\n",
              "      background-color: #434B5C;\n",
              "      box-shadow: 0px 1px 3px 1px rgba(0, 0, 0, 0.15);\n",
              "      filter: drop-shadow(0px 1px 2px rgba(0, 0, 0, 0.3));\n",
              "      fill: #FFFFFF;\n",
              "    }\n",
              "  </style>\n",
              "\n",
              "      <script>\n",
              "        const buttonEl =\n",
              "          document.querySelector('#df-2df8b1ec-3f71-4d90-b275-c28683056bfd button.colab-df-convert');\n",
              "        buttonEl.style.display =\n",
              "          google.colab.kernel.accessAllowed ? 'block' : 'none';\n",
              "\n",
              "        async function convertToInteractive(key) {\n",
              "          const element = document.querySelector('#df-2df8b1ec-3f71-4d90-b275-c28683056bfd');\n",
              "          const dataTable =\n",
              "            await google.colab.kernel.invokeFunction('convertToInteractive',\n",
              "                                                     [key], {});\n",
              "          if (!dataTable) return;\n",
              "\n",
              "          const docLinkHtml = 'Like what you see? Visit the ' +\n",
              "            '<a target=\"_blank\" href=https://colab.research.google.com/notebooks/data_table.ipynb>data table notebook</a>'\n",
              "            + ' to learn more about interactive tables.';\n",
              "          element.innerHTML = '';\n",
              "          dataTable['output_type'] = 'display_data';\n",
              "          await google.colab.output.renderOutput(dataTable, element);\n",
              "          const docLink = document.createElement('div');\n",
              "          docLink.innerHTML = docLinkHtml;\n",
              "          element.appendChild(docLink);\n",
              "        }\n",
              "      </script>\n",
              "    </div>\n",
              "  </div>\n",
              "  "
            ]
          },
          "metadata": {},
          "execution_count": 51
        }
      ]
    },
    {
      "cell_type": "code",
      "source": [
        "fig,((ax1,ax2),(ax3,ax4),(ax5,ax6),(ax7,ax8),(ax9,ax10)) = plt.subplots(ncols=2,nrows=5,figsize=(15,12),sharey=False)\n",
        "axs = [(ax1,'ADPLEASR'),(ax2,'ADDOWN'),(ax3,'ADSLEEP'),(ax4,'ADENERGY'),\n",
        "        (ax5,'ADEAT1'),(ax6,'ADFAIL'),(ax7,'ADTHINK'),(ax8,'ADMOVE'),(ax9,'MISTMNT'),(ax10,'ADANXEV')]\n",
        "for ax,col in axs:\n",
        "  y_label = f'mean_{col}'\n",
        "  dp_gp = df.groupby(['TRNSGNDR']).agg(y_label=(col, 'mean'))\n",
        "  dp_gp = dp_gp.reset_index()\n",
        "  sns.barplot(x='TRNSGNDR',y=dp_gp.iloc[:,-1],hue='TRNSGNDR',ax=ax,data=dp_gp)\n",
        "  ax.set_ylabel(y_label)\n",
        "  h, l = ax.get_legend_handles_labels()\n",
        "  ax.legend(h,['Cis','F->M','M->F','Non-Binary'])"
      ],
      "metadata": {
        "colab": {
          "base_uri": "https://localhost:8080/",
          "height": 714
        },
        "id": "3X1q3gl2XV9a",
        "outputId": "54c0a553-5d88-4a46-948d-c23a5f1be590"
      },
      "execution_count": null,
      "outputs": [
        {
          "output_type": "display_data",
          "data": {
            "text/plain": [
              "<Figure size 1080x864 with 10 Axes>"
            ],
            "image/png": "[encoded data removed]"
          },
          "metadata": {
            "needs_background": "light"
          }
        }
      ]
    },
    {
      "cell_type": "markdown",
      "source": [
        "# **States**"
      ],
      "metadata": {
        "id": "mhofgJzu7Bea"
      }
    },
    {
      "cell_type": "code",
      "source": [
        "state_gp = df.groupby(['_STATE'])"
      ],
      "metadata": {
        "id": "oApWI1um7Dt5"
      },
      "execution_count": null,
      "outputs": []
    },
    {
      "cell_type": "code",
      "source": [
        "state_gp.mean().iloc[:,:22].head()"
      ],
      "metadata": {
        "colab": {
          "base_uri": "https://localhost:8080/",
          "height": 302
        },
        "id": "7lAF9vZC7Kcu",
        "outputId": "b41d2d2f-74f2-44b8-8877-b5d3a21aeae2"
      },
      "execution_count": null,
      "outputs": [
        {
          "output_type": "execute_result",
          "data": {
            "text/plain": [
              "         GENHLTH  PHYSHLTH  MENTHLTH  POORHLTH  HLTHPLN1   MEDCOST    BPMEDS  \\\n",
              "_STATE                                                                         \n",
              "AK      0.695319  5.806845  3.763179  3.920732  0.937254  0.105429  0.941188   \n",
              "AL      0.731341  5.363126  4.258612  3.664535  0.907881  0.147573  0.933064   \n",
              "AR      0.829607  4.051797  3.240872  2.632890  0.886216  0.129635  0.899802   \n",
              "AZ      0.798629  4.528683  3.344059  2.815245  0.922854  0.107873  0.927074   \n",
              "CA      0.810239  4.198825  3.794713  2.839026  0.896265  0.123626  0.912547   \n",
              "\n",
              "        CVDINFR4  HRTDOAGIN  CHCSCNCR  CHCOCNCR  ADDEPEV2  DIABETE3       SEX  \\\n",
              "_STATE                                                                          \n",
              "AK      0.094807   0.092054  0.118017  0.120574  0.210464  0.194729  0.629819   \n",
              "AL      0.071503   0.075418  0.119389  0.105689  0.236561  0.183977  0.613779   \n",
              "AR      0.041891   0.042174  0.050099  0.084348  0.161053  0.108973  0.534956   \n",
              "AZ      0.064223   0.060530  0.151919  0.123302  0.192800  0.156007  0.586839   \n",
              "CA      0.037012   0.038187  0.074444  0.078556  0.155602  0.123626  0.519765   \n",
              "\n",
              "        VETERAN3   EMPLOY1  CHILDREN  INTERNET  AVEDRNK2  DRNK3GE5  MAXDRNKS  \\\n",
              "_STATE                                                                         \n",
              "AK      0.154209  4.840480  0.250393  1.369001  2.018489  0.401652  2.316483   \n",
              "AL      0.137787  4.475992  0.293189  1.319024  2.115605  0.405402  2.421712   \n",
              "AR      0.161902  3.418907  0.493348  1.155109  2.176620  0.729408  2.882253   \n",
              "AZ      0.161282  4.455756  0.353290  1.223922  1.996703  0.390083  2.382962   \n",
              "CA      0.097272  3.516156  0.436173  1.296601  2.217625  0.575325  2.739908   \n",
              "\n",
              "        EXERANY2  \n",
              "_STATE            \n",
              "AK      1.373918  \n",
              "AL      1.325287  \n",
              "AR      1.243136  \n",
              "AZ      1.252802  \n",
              "CA      2.168023  "
            ],
            "text/html": [
              "\n",
              "  <div id=\"df-e1d1fc60-e935-496d-90a5-7350fa8c5438\">\n",
              "    <div class=\"colab-df-container\">\n",
              "      <div>\n",
              "<style scoped>\n",
              "    .dataframe tbody tr th:only-of-type {\n",
              "        vertical-align: middle;\n",
              "    }\n",
              "\n",
              "    .dataframe tbody tr th {\n",
              "        vertical-align: top;\n",
              "    }\n",
              "\n",
              "    .dataframe thead th {\n",
              "        text-align: right;\n",
              "    }\n",
              "</style>\n",
              "<table border=\"1\" class=\"dataframe\">\n",
              "  <thead>\n",
              "    <tr style=\"text-align: right;\">\n",
              "      <th></th>\n",
              "      <th>GENHLTH</th>\n",
              "      <th>PHYSHLTH</th>\n",
              "      <th>MENTHLTH</th>\n",
              "      <th>POORHLTH</th>\n",
              "      <th>HLTHPLN1</th>\n",
              "      <th>MEDCOST</th>\n",
              "      <th>BPMEDS</th>\n",
              "      <th>CVDINFR4</th>\n",
              "      <th>HRTDOAGIN</th>\n",
              "      <th>CHCSCNCR</th>\n",
              "      <th>CHCOCNCR</th>\n",
              "      <th>ADDEPEV2</th>\n",
              "      <th>DIABETE3</th>\n",
              "      <th>SEX</th>\n",
              "      <th>VETERAN3</th>\n",
              "      <th>EMPLOY1</th>\n",
              "      <th>CHILDREN</th>\n",
              "      <th>INTERNET</th>\n",
              "      <th>AVEDRNK2</th>\n",
              "      <th>DRNK3GE5</th>\n",
              "      <th>MAXDRNKS</th>\n",
              "      <th>EXERANY2</th>\n",
              "    </tr>\n",
              "    <tr>\n",
              "      <th>_STATE</th>\n",
              "      <th></th>\n",
              "      <th></th>\n",
              "      <th></th>\n",
              "      <th></th>\n",
              "      <th></th>\n",
              "      <th></th>\n",
              "      <th></th>\n",
              "      <th></th>\n",
              "      <th></th>\n",
              "      <th></th>\n",
              "      <th></th>\n",
              "      <th></th>\n",
              "      <th></th>\n",
              "      <th></th>\n",
              "      <th></th>\n",
              "      <th></th>\n",
              "      <th></th>\n",
              "      <th></th>\n",
              "      <th></th>\n",
              "      <th></th>\n",
              "      <th></th>\n",
              "      <th></th>\n",
              "    </tr>\n",
              "  </thead>\n",
              "  <tbody>\n",
              "    <tr>\n",
              "      <th>AK</th>\n",
              "      <td>0.695319</td>\n",
              "      <td>5.806845</td>\n",
              "      <td>3.763179</td>\n",
              "      <td>3.920732</td>\n",
              "      <td>0.937254</td>\n",
              "      <td>0.105429</td>\n",
              "      <td>0.941188</td>\n",
              "      <td>0.094807</td>\n",
              "      <td>0.092054</td>\n",
              "      <td>0.118017</td>\n",
              "      <td>0.120574</td>\n",
              "      <td>0.210464</td>\n",
              "      <td>0.194729</td>\n",
              "      <td>0.629819</td>\n",
              "      <td>0.154209</td>\n",
              "      <td>4.840480</td>\n",
              "      <td>0.250393</td>\n",
              "      <td>1.369001</td>\n",
              "      <td>2.018489</td>\n",
              "      <td>0.401652</td>\n",
              "      <td>2.316483</td>\n",
              "      <td>1.373918</td>\n",
              "    </tr>\n",
              "    <tr>\n",
              "      <th>AL</th>\n",
              "      <td>0.731341</td>\n",
              "      <td>5.363126</td>\n",
              "      <td>4.258612</td>\n",
              "      <td>3.664535</td>\n",
              "      <td>0.907881</td>\n",
              "      <td>0.147573</td>\n",
              "      <td>0.933064</td>\n",
              "      <td>0.071503</td>\n",
              "      <td>0.075418</td>\n",
              "      <td>0.119389</td>\n",
              "      <td>0.105689</td>\n",
              "      <td>0.236561</td>\n",
              "      <td>0.183977</td>\n",
              "      <td>0.613779</td>\n",
              "      <td>0.137787</td>\n",
              "      <td>4.475992</td>\n",
              "      <td>0.293189</td>\n",
              "      <td>1.319024</td>\n",
              "      <td>2.115605</td>\n",
              "      <td>0.405402</td>\n",
              "      <td>2.421712</td>\n",
              "      <td>1.325287</td>\n",
              "    </tr>\n",
              "    <tr>\n",
              "      <th>AR</th>\n",
              "      <td>0.829607</td>\n",
              "      <td>4.051797</td>\n",
              "      <td>3.240872</td>\n",
              "      <td>2.632890</td>\n",
              "      <td>0.886216</td>\n",
              "      <td>0.129635</td>\n",
              "      <td>0.899802</td>\n",
              "      <td>0.041891</td>\n",
              "      <td>0.042174</td>\n",
              "      <td>0.050099</td>\n",
              "      <td>0.084348</td>\n",
              "      <td>0.161053</td>\n",
              "      <td>0.108973</td>\n",
              "      <td>0.534956</td>\n",
              "      <td>0.161902</td>\n",
              "      <td>3.418907</td>\n",
              "      <td>0.493348</td>\n",
              "      <td>1.155109</td>\n",
              "      <td>2.176620</td>\n",
              "      <td>0.729408</td>\n",
              "      <td>2.882253</td>\n",
              "      <td>1.243136</td>\n",
              "    </tr>\n",
              "    <tr>\n",
              "      <th>AZ</th>\n",
              "      <td>0.798629</td>\n",
              "      <td>4.528683</td>\n",
              "      <td>3.344059</td>\n",
              "      <td>2.815245</td>\n",
              "      <td>0.922854</td>\n",
              "      <td>0.107873</td>\n",
              "      <td>0.927074</td>\n",
              "      <td>0.064223</td>\n",
              "      <td>0.060530</td>\n",
              "      <td>0.151919</td>\n",
              "      <td>0.123302</td>\n",
              "      <td>0.192800</td>\n",
              "      <td>0.156007</td>\n",
              "      <td>0.586839</td>\n",
              "      <td>0.161282</td>\n",
              "      <td>4.455756</td>\n",
              "      <td>0.353290</td>\n",
              "      <td>1.223922</td>\n",
              "      <td>1.996703</td>\n",
              "      <td>0.390083</td>\n",
              "      <td>2.382962</td>\n",
              "      <td>1.252802</td>\n",
              "    </tr>\n",
              "    <tr>\n",
              "      <th>CA</th>\n",
              "      <td>0.810239</td>\n",
              "      <td>4.198825</td>\n",
              "      <td>3.794713</td>\n",
              "      <td>2.839026</td>\n",
              "      <td>0.896265</td>\n",
              "      <td>0.123626</td>\n",
              "      <td>0.912547</td>\n",
              "      <td>0.037012</td>\n",
              "      <td>0.038187</td>\n",
              "      <td>0.074444</td>\n",
              "      <td>0.078556</td>\n",
              "      <td>0.155602</td>\n",
              "      <td>0.123626</td>\n",
              "      <td>0.519765</td>\n",
              "      <td>0.097272</td>\n",
              "      <td>3.516156</td>\n",
              "      <td>0.436173</td>\n",
              "      <td>1.296601</td>\n",
              "      <td>2.217625</td>\n",
              "      <td>0.575325</td>\n",
              "      <td>2.739908</td>\n",
              "      <td>2.168023</td>\n",
              "    </tr>\n",
              "  </tbody>\n",
              "</table>\n",
              "</div>\n",
              "      <button class=\"colab-df-convert\" onclick=\"convertToInteractive('df-e1d1fc60-e935-496d-90a5-7350fa8c5438')\"\n",
              "              title=\"Convert this dataframe to an interactive table.\"\n",
              "              style=\"display:none;\">\n",
              "        \n",
              "  <svg xmlns=\"http://www.w3.org/2000/svg\" height=\"24px\"viewBox=\"0 0 24 24\"\n",
              "       width=\"24px\">\n",
              "    <path d=\"M0 0h24v24H0V0z\" fill=\"none\"/>\n",
              "    <path d=\"M18.56 5.44l.94 2.06.94-2.06 2.06-.94-2.06-.94-.94-2.06-.94 2.06-2.06.94zm-11 1L8.5 8.5l.94-2.06 2.06-.94-2.06-.94L8.5 2.5l-.94 2.06-2.06.94zm10 10l.94 2.06.94-2.06 2.06-.94-2.06-.94-.94-2.06-.94 2.06-2.06.94z\"/><path d=\"M17.41 7.96l-1.37-1.37c-.4-.4-.92-.59-1.43-.59-.52 0-1.04.2-1.43.59L10.3 9.45l-7.72 7.72c-.78.78-.78 2.05 0 2.83L4 21.41c.39.39.9.59 1.41.59.51 0 1.02-.2 1.41-.59l7.78-7.78 2.81-2.81c.8-.78.8-2.07 0-2.86zM5.41 20L4 18.59l7.72-7.72 1.47 1.35L5.41 20z\"/>\n",
              "  </svg>\n",
              "      </button>\n",
              "      \n",
              "  <style>\n",
              "    .colab-df-container {\n",
              "      display:flex;\n",
              "      flex-wrap:wrap;\n",
              "      gap: 12px;\n",
              "    }\n",
              "\n",
              "    .colab-df-convert {\n",
              "      background-color: #E8F0FE;\n",
              "      border: none;\n",
              "      border-radius: 50%;\n",
              "      cursor: pointer;\n",
              "      display: none;\n",
              "      fill: #1967D2;\n",
              "      height: 32px;\n",
              "      padding: 0 0 0 0;\n",
              "      width: 32px;\n",
              "    }\n",
              "\n",
              "    .colab-df-convert:hover {\n",
              "      background-color: #E2EBFA;\n",
              "      box-shadow: 0px 1px 2px rgba(60, 64, 67, 0.3), 0px 1px 3px 1px rgba(60, 64, 67, 0.15);\n",
              "      fill: #174EA6;\n",
              "    }\n",
              "\n",
              "    [theme=dark] .colab-df-convert {\n",
              "      background-color: #3B4455;\n",
              "      fill: #D2E3FC;\n",
              "    }\n",
              "\n",
              "    [theme=dark] .colab-df-convert:hover {\n",
              "      background-color: #434B5C;\n",
              "      box-shadow: 0px 1px 3px 1px rgba(0, 0, 0, 0.15);\n",
              "      filter: drop-shadow(0px 1px 2px rgba(0, 0, 0, 0.3));\n",
              "      fill: #FFFFFF;\n",
              "    }\n",
              "  </style>\n",
              "\n",
              "      <script>\n",
              "        const buttonEl =\n",
              "          document.querySelector('#df-e1d1fc60-e935-496d-90a5-7350fa8c5438 button.colab-df-convert');\n",
              "        buttonEl.style.display =\n",
              "          google.colab.kernel.accessAllowed ? 'block' : 'none';\n",
              "\n",
              "        async function convertToInteractive(key) {\n",
              "          const element = document.querySelector('#df-e1d1fc60-e935-496d-90a5-7350fa8c5438');\n",
              "          const dataTable =\n",
              "            await google.colab.kernel.invokeFunction('convertToInteractive',\n",
              "                                                     [key], {});\n",
              "          if (!dataTable) return;\n",
              "\n",
              "          const docLinkHtml = 'Like what you see? Visit the ' +\n",
              "            '<a target=\"_blank\" href=https://colab.research.google.com/notebooks/data_table.ipynb>data table notebook</a>'\n",
              "            + ' to learn more about interactive tables.';\n",
              "          element.innerHTML = '';\n",
              "          dataTable['output_type'] = 'display_data';\n",
              "          await google.colab.output.renderOutput(dataTable, element);\n",
              "          const docLink = document.createElement('div');\n",
              "          docLink.innerHTML = docLinkHtml;\n",
              "          element.appendChild(docLink);\n",
              "        }\n",
              "      </script>\n",
              "    </div>\n",
              "  </div>\n",
              "  "
            ]
          },
          "metadata": {},
          "execution_count": 48
        }
      ]
    },
    {
      "cell_type": "code",
      "source": [
        "fig = plt.subplots(ncols=1,nrows=1,figsize=(15,8))\n",
        "MH =state_gp.mean()['MENTHLTH']\n",
        "plt.title('Avg of Days of Poor Mental Health By State')\n",
        "sns.barplot(MH.index,MH.values)\n",
        "plt.xticks(rotation=45)"
      ],
      "metadata": {
        "colab": {
          "base_uri": "https://localhost:8080/",
          "height": 1000
        },
        "id": "o8bvjD0TFmkp",
        "outputId": "e4e93155-b611-4bc3-ca32-b99dde3fdd58"
      },
      "execution_count": null,
      "outputs": [
        {
          "output_type": "stream",
          "name": "stderr",
          "text": [
            "/usr/local/lib/python3.8/dist-packages/seaborn/_decorators.py:36: FutureWarning: Pass the following variables as keyword args: x, y. From version 0.12, the only valid positional argument will be `data`, and passing other arguments without an explicit keyword will result in an error or misinterpretation.\n",
            "  warnings.warn(\n"
          ]
        },
        {
          "output_type": "execute_result",
          "data": {
            "text/plain": [
              "(array([ 0,  1,  2,  3,  4,  5,  6,  7,  8,  9, 10, 11, 12, 13, 14, 15, 16,\n",
              "        17, 18, 19, 20, 21, 22, 23, 24, 25, 26, 27, 28, 29, 30, 31, 32, 33,\n",
              "        34, 35, 36, 37, 38, 39, 40, 41, 42, 43, 44, 45, 46, 47, 48, 49, 50,\n",
              "        51, 52]),\n",
              " [Text(0, 0, 'AK'),\n",
              "  Text(1, 0, 'AL'),\n",
              "  Text(2, 0, 'AR'),\n",
              "  Text(3, 0, 'AZ'),\n",
              "  Text(4, 0, 'CA'),\n",
              "  Text(5, 0, 'CO'),\n",
              "  Text(6, 0, 'CT'),\n",
              "  Text(7, 0, 'DC'),\n",
              "  Text(8, 0, 'DE'),\n",
              "  Text(9, 0, 'FL'),\n",
              "  Text(10, 0, 'GA'),\n",
              "  Text(11, 0, 'GU'),\n",
              "  Text(12, 0, 'HI'),\n",
              "  Text(13, 0, 'IA'),\n",
              "  Text(14, 0, 'ID'),\n",
              "  Text(15, 0, 'IL'),\n",
              "  Text(16, 0, 'IN'),\n",
              "  Text(17, 0, 'KS'),\n",
              "  Text(18, 0, 'KY'),\n",
              "  Text(19, 0, 'LA'),\n",
              "  Text(20, 0, 'MA'),\n",
              "  Text(21, 0, 'MD'),\n",
              "  Text(22, 0, 'ME'),\n",
              "  Text(23, 0, 'MI'),\n",
              "  Text(24, 0, 'MN'),\n",
              "  Text(25, 0, 'MO'),\n",
              "  Text(26, 0, 'MS'),\n",
              "  Text(27, 0, 'MT'),\n",
              "  Text(28, 0, 'NC'),\n",
              "  Text(29, 0, 'ND'),\n",
              "  Text(30, 0, 'NE'),\n",
              "  Text(31, 0, 'NH'),\n",
              "  Text(32, 0, 'NJ'),\n",
              "  Text(33, 0, 'NM'),\n",
              "  Text(34, 0, 'NV'),\n",
              "  Text(35, 0, 'NY'),\n",
              "  Text(36, 0, 'OH'),\n",
              "  Text(37, 0, 'OK'),\n",
              "  Text(38, 0, 'OR'),\n",
              "  Text(39, 0, 'PA'),\n",
              "  Text(40, 0, 'PR'),\n",
              "  Text(41, 0, 'RI'),\n",
              "  Text(42, 0, 'SC'),\n",
              "  Text(43, 0, 'SD'),\n",
              "  Text(44, 0, 'TN'),\n",
              "  Text(45, 0, 'TX'),\n",
              "  Text(46, 0, 'UT'),\n",
              "  Text(47, 0, 'VA'),\n",
              "  Text(48, 0, 'VT'),\n",
              "  Text(49, 0, 'WA'),\n",
              "  Text(50, 0, 'WI'),\n",
              "  Text(51, 0, 'WV'),\n",
              "  Text(52, 0, 'WY')])"
            ]
          },
          "metadata": {},
          "execution_count": 56
        },
        {
          "output_type": "display_data",
          "data": {
            "text/plain": [
              "<Figure size 1080x576 with 1 Axes>"
            ],
            "image/png": "[encoded data removed]"
          },
          "metadata": {
            "needs_background": "light"
          }
        }
      ]
    },
    {
      "cell_type": "code",
      "source": [
        "fig = plt.subplots(ncols=1,nrows=1,figsize=(25,8))\n",
        "df.groupby(['_STATE','TRNSGNDR']).mean()['ADDEPEV2'].plot(kind='bar')\n",
        "# plt.xticks(rotation=45)"
      ],
      "metadata": {
        "colab": {
          "base_uri": "https://localhost:8080/",
          "height": 426
        },
        "id": "prju7ZmvH8BK",
        "outputId": "f16aee13-6823-4cb7-c681-186431b24a35"
      },
      "execution_count": null,
      "outputs": [
        {
          "output_type": "execute_result",
          "data": {
            "text/plain": [
              "<AxesSubplot:xlabel='_STATE,TRNSGNDR'>"
            ]
          },
          "metadata": {},
          "execution_count": 55
        },
        {
          "output_type": "display_data",
          "data": {
            "text/plain": [
              "<Figure size 1800x576 with 1 Axes>"
            ],
            "image/png": "[encoded data removed]"
          },
          "metadata": {
            "needs_background": "light"
          }
        }
      ]
    },
    {
      "cell_type": "code",
      "source": [
        "df.to_csv('/content/drive/MyDrive/Colab Notebooks/Data Science/Projects/BFFRS/sgm_data.csv')"
      ],
      "metadata": {
        "id": "rI4YwSrltyzw"
      },
      "execution_count": null,
      "outputs": []
    }
  ]
}